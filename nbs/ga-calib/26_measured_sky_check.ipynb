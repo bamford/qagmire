{
 "cells": [
  {
   "cell_type": "markdown",
   "id": "dc0493e6",
   "metadata": {},
   "source": [
    "# Measured sky check\n",
    "\n",
    "> Check that the L1 spectra have a measured sky brightness fainter than the observational requirement."
   ]
  },
  {
   "cell_type": "code",
   "execution_count": null,
   "id": "23332175-f8be-4b76-927d-438042c90a2d",
   "metadata": {},
   "outputs": [],
   "source": [
    "from qagmire.diagnostics import MeasuredSkyCheck"
   ]
  },
  {
   "cell_type": "code",
   "execution_count": null,
   "id": "fba935ba-82a5-468c-b017-d8e3c8bbef60",
   "metadata": {},
   "outputs": [
    {
     "name": "stdout",
     "output_type": "stream",
     "text": [
      "env: PYTHONWARNINGS=ignore\n"
     ]
    }
   ],
   "source": [
    "# |hide\n",
    "\n",
    "# This prevents warnings from appearing in cell outputs, since it has proven difficult\n",
    "# to suppress warnings arising from dask workers.\n",
    "%env PYTHONWARNINGS=ignore"
   ]
  },
  {
   "cell_type": "markdown",
   "id": "2a869a09-e290-476e-9dbc-fdbca7b11df3",
   "metadata": {},
   "source": [
    "## Test GA-CALIB dataset"
   ]
  },
  {
   "cell_type": "code",
   "execution_count": null,
   "id": "5c0c645f-7014-4c4e-b86e-2957eea77d79",
   "metadata": {},
   "outputs": [
    {
     "name": "stdout",
     "output_type": "stream",
     "text": [
      "\r",
      "Locating and converting where necessary:   0%|                                                                                      | 0/12 [00:00<?, ?it/s]"
     ]
    },
    {
     "name": "stdout",
     "output_type": "stream",
     "text": [
      "\r",
      "Locating and converting where necessary: 100%|███████████████████████████████████████████████████████████████████████████| 12/12 [00:00<00:00, 1390.80it/s]"
     ]
    },
    {
     "name": "stdout",
     "output_type": "stream",
     "text": [
      "\n",
      "Reading netCDF files... "
     ]
    },
    {
     "name": "stdout",
     "output_type": "stream",
     "text": [
      "took 0.74 s. Size is 5296.042 Mb\n"
     ]
    },
    {
     "name": "stdout",
     "output_type": "stream",
     "text": [
      "\r",
      "Reading files:   0%|                                                                                                                | 0/12 [00:00<?, ?it/s]"
     ]
    },
    {
     "name": "stdout",
     "output_type": "stream",
     "text": [
      "\r",
      "Reading files:   8%|████████▋                                                                                               | 1/12 [00:00<00:01,  8.17it/s]"
     ]
    },
    {
     "name": "stdout",
     "output_type": "stream",
     "text": [
      "\r",
      "Reading files:  75%|██████████████████████████████████████████████████████████████████████████████                          | 9/12 [00:00<00:00, 25.52it/s]"
     ]
    },
    {
     "name": "stdout",
     "output_type": "stream",
     "text": [
      "\r",
      "Reading files: 100%|███████████████████████████████████████████████████████████████████████████████████████████████████████| 12/12 [00:00<00:00, 25.57it/s]"
     ]
    },
    {
     "name": "stdout",
     "output_type": "stream",
     "text": [
      "\r",
      "Reading files: 100%|███████████████████████████████████████████████████████████████████████████████████████████████████████| 12/12 [00:00<00:00, 24.14it/s]"
     ]
    },
    {
     "name": "stdout",
     "output_type": "stream",
     "text": [
      "\n",
      "Creating Dataset... "
     ]
    },
    {
     "name": "stdout",
     "output_type": "stream",
     "text": [
      "took 0.06 s. Size is 4.738 Mb\n"
     ]
    },
    {
     "name": "stdout",
     "output_type": "stream",
     "text": [
      "\r",
      "Reading files:   0%|                                                                                                                | 0/12 [00:00<?, ?it/s]"
     ]
    },
    {
     "name": "stdout",
     "output_type": "stream",
     "text": [
      "\r",
      "Reading files:   8%|████████▋                                                                                               | 1/12 [00:00<00:03,  3.29it/s]"
     ]
    },
    {
     "name": "stdout",
     "output_type": "stream",
     "text": [
      "\r",
      "Reading files:  83%|█████████████████████████████████████████████████████████████████████████████████████▊                 | 10/12 [00:00<00:00, 20.44it/s]"
     ]
    },
    {
     "name": "stdout",
     "output_type": "stream",
     "text": [
      "\r",
      "Reading files: 100%|███████████████████████████████████████████████████████████████████████████████████████████████████████| 12/12 [00:00<00:00, 21.13it/s]"
     ]
    },
    {
     "name": "stdout",
     "output_type": "stream",
     "text": [
      "\n",
      "Creating Dataset... "
     ]
    },
    {
     "name": "stdout",
     "output_type": "stream",
     "text": [
      "took 0.28 s. Size is 0.078 Mb\n",
      "Tests took 2.85 s to prepare (including reading data).\n"
     ]
    },
    {
     "name": "stdout",
     "output_type": "stream",
     "text": [
      "Tests took 6.21 s to perform.\n",
      "sky_too_bright:\n",
      "    Does the measured sky brightness in the raw spectra satisfy the observational requirement?\n",
      "sky_too_variable:\n",
      "    Does the measured sky brightness vary substantially (> 0.2 mag) between the sky fibres for each OB?\n"
     ]
    }
   ],
   "source": [
    "tests = MeasuredSkyCheck(n_processes=1)\n",
    "tests.run(folder=\"GA-CALIB\")"
   ]
  },
  {
   "cell_type": "code",
   "execution_count": null,
   "id": "5fb669b0-68c0-4dc4-92d2-237f56acaac5",
   "metadata": {},
   "outputs": [
    {
     "name": "stdout",
     "output_type": "stream",
     "text": [
      "2 varieties of test and 6 tested elements per variety, for total of 12 tests.\n",
      "9 tests failed (75.00%) and 3 tests passed (25.00%).\n"
     ]
    },
    {
     "data": {
      "text/html": [
       "<div>\n",
       "<style scoped>\n",
       "    .dataframe tbody tr th:only-of-type {\n",
       "        vertical-align: middle;\n",
       "    }\n",
       "\n",
       "    .dataframe tbody tr th {\n",
       "        vertical-align: top;\n",
       "    }\n",
       "\n",
       "    .dataframe thead tr th {\n",
       "        text-align: left;\n",
       "    }\n",
       "\n",
       "    .dataframe thead tr:last-of-type th {\n",
       "        text-align: right;\n",
       "    }\n",
       "</style>\n",
       "<table border=\"1\" class=\"dataframe\">\n",
       "  <thead>\n",
       "    <tr>\n",
       "      <th></th>\n",
       "      <th></th>\n",
       "      <th></th>\n",
       "      <th></th>\n",
       "      <th></th>\n",
       "      <th></th>\n",
       "      <th colspan=\"2\" halign=\"left\">failed</th>\n",
       "      <th>total fails</th>\n",
       "    </tr>\n",
       "    <tr>\n",
       "      <th></th>\n",
       "      <th></th>\n",
       "      <th></th>\n",
       "      <th></th>\n",
       "      <th></th>\n",
       "      <th>test</th>\n",
       "      <th>sky_too_bright</th>\n",
       "      <th>sky_too_variable</th>\n",
       "      <th></th>\n",
       "    </tr>\n",
       "    <tr>\n",
       "      <th>OBID</th>\n",
       "      <th>filename</th>\n",
       "      <th>RUN</th>\n",
       "      <th>CAMERA</th>\n",
       "      <th>MJD</th>\n",
       "      <th>NIGHT</th>\n",
       "      <th></th>\n",
       "      <th></th>\n",
       "      <th></th>\n",
       "    </tr>\n",
       "  </thead>\n",
       "  <tbody>\n",
       "    <tr>\n",
       "      <th>12366</th>\n",
       "      <th>stack_3050925</th>\n",
       "      <th>3050925</th>\n",
       "      <th>BLUE</th>\n",
       "      <th>60385.94781</th>\n",
       "      <th>20240316</th>\n",
       "      <td>True</td>\n",
       "      <td>True</td>\n",
       "      <td>2</td>\n",
       "    </tr>\n",
       "    <tr>\n",
       "      <th>12382</th>\n",
       "      <th>stack_3050637</th>\n",
       "      <th>3050637</th>\n",
       "      <th>BLUE</th>\n",
       "      <th>60384.93435</th>\n",
       "      <th>20240315</th>\n",
       "      <td>True</td>\n",
       "      <td>True</td>\n",
       "      <td>2</td>\n",
       "    </tr>\n",
       "    <tr>\n",
       "      <th>12383</th>\n",
       "      <th>stack_3051173</th>\n",
       "      <th>3051173</th>\n",
       "      <th>BLUE</th>\n",
       "      <th>60386.87493</th>\n",
       "      <th>20240317</th>\n",
       "      <td>True</td>\n",
       "      <td>True</td>\n",
       "      <td>2</td>\n",
       "    </tr>\n",
       "    <tr>\n",
       "      <th>12392</th>\n",
       "      <th>stack_3051211</th>\n",
       "      <th>3051211</th>\n",
       "      <th>BLUE</th>\n",
       "      <th>60386.96006</th>\n",
       "      <th>20240317</th>\n",
       "      <td>True</td>\n",
       "      <td>True</td>\n",
       "      <td>2</td>\n",
       "    </tr>\n",
       "    <tr>\n",
       "      <th>12367</th>\n",
       "      <th>stack_3050887</th>\n",
       "      <th>3050887</th>\n",
       "      <th>BLUE</th>\n",
       "      <th>60385.87653</th>\n",
       "      <th>20240316</th>\n",
       "      <td>False</td>\n",
       "      <td>True</td>\n",
       "      <td>1</td>\n",
       "    </tr>\n",
       "  </tbody>\n",
       "</table>\n",
       "</div>"
      ],
      "text/plain": [
       "                                                                failed  \\\n",
       "test                                                    sky_too_bright   \n",
       "OBID  filename      RUN     CAMERA MJD         NIGHT                     \n",
       "12366 stack_3050925 3050925 BLUE   60385.94781 20240316           True   \n",
       "12382 stack_3050637 3050637 BLUE   60384.93435 20240315           True   \n",
       "12383 stack_3051173 3051173 BLUE   60386.87493 20240317           True   \n",
       "12392 stack_3051211 3051211 BLUE   60386.96006 20240317           True   \n",
       "12367 stack_3050887 3050887 BLUE   60385.87653 20240316          False   \n",
       "\n",
       "                                                                          \\\n",
       "test                                                    sky_too_variable   \n",
       "OBID  filename      RUN     CAMERA MJD         NIGHT                       \n",
       "12366 stack_3050925 3050925 BLUE   60385.94781 20240316             True   \n",
       "12382 stack_3050637 3050637 BLUE   60384.93435 20240315             True   \n",
       "12383 stack_3051173 3051173 BLUE   60386.87493 20240317             True   \n",
       "12392 stack_3051211 3051211 BLUE   60386.96006 20240317             True   \n",
       "12367 stack_3050887 3050887 BLUE   60385.87653 20240316             True   \n",
       "\n",
       "                                                        total fails  \n",
       "test                                                                 \n",
       "OBID  filename      RUN     CAMERA MJD         NIGHT                 \n",
       "12366 stack_3050925 3050925 BLUE   60385.94781 20240316           2  \n",
       "12382 stack_3050637 3050637 BLUE   60384.93435 20240315           2  \n",
       "12383 stack_3051173 3051173 BLUE   60386.87493 20240317           2  \n",
       "12392 stack_3051211 3051211 BLUE   60386.96006 20240317           2  \n",
       "12367 stack_3050887 3050887 BLUE   60385.87653 20240316           1  "
      ]
     },
     "execution_count": null,
     "metadata": {},
     "output_type": "execute_result"
    }
   ],
   "source": [
    "tests.summary()"
   ]
  },
  {
   "cell_type": "markdown",
   "id": "77b16a23-68d1-4ea7-8c08-e66b0641e09c",
   "metadata": {},
   "source": [
    "## Details\n",
    "\n",
    "The high (in some cases infinite) sigma_sky suggests the sky is being contaminated by bad pixels. This is likely, since the photometry is being done without use of the noise map. **Work to be done**.\n"
   ]
  },
  {
   "cell_type": "code",
   "execution_count": null,
   "id": "177e38fd-d9cc-41b5-bbd1-4017bc9f7971",
   "metadata": {},
   "outputs": [
    {
     "data": {
      "text/html": [
       "<div>\n",
       "<style scoped>\n",
       "    .dataframe tbody tr th:only-of-type {\n",
       "        vertical-align: middle;\n",
       "    }\n",
       "\n",
       "    .dataframe tbody tr th {\n",
       "        vertical-align: top;\n",
       "    }\n",
       "\n",
       "    .dataframe thead th {\n",
       "        text-align: right;\n",
       "    }\n",
       "</style>\n",
       "<table border=\"1\" class=\"dataframe\">\n",
       "  <thead>\n",
       "    <tr style=\"text-align: right;\">\n",
       "      <th></th>\n",
       "      <th>median_sky</th>\n",
       "      <th>sky_limit</th>\n",
       "      <th>sigma_sky</th>\n",
       "    </tr>\n",
       "    <tr>\n",
       "      <th>OBID</th>\n",
       "      <th></th>\n",
       "      <th></th>\n",
       "      <th></th>\n",
       "    </tr>\n",
       "  </thead>\n",
       "  <tbody>\n",
       "    <tr>\n",
       "      <th>12398</th>\n",
       "      <td>18.889899</td>\n",
       "      <td>18.5</td>\n",
       "      <td>0.084998</td>\n",
       "    </tr>\n",
       "    <tr>\n",
       "      <th>12382</th>\n",
       "      <td>17.781169</td>\n",
       "      <td>18.5</td>\n",
       "      <td>inf</td>\n",
       "    </tr>\n",
       "    <tr>\n",
       "      <th>12367</th>\n",
       "      <td>18.683502</td>\n",
       "      <td>18.5</td>\n",
       "      <td>inf</td>\n",
       "    </tr>\n",
       "    <tr>\n",
       "      <th>12366</th>\n",
       "      <td>17.431117</td>\n",
       "      <td>18.5</td>\n",
       "      <td>0.350555</td>\n",
       "    </tr>\n",
       "    <tr>\n",
       "      <th>12383</th>\n",
       "      <td>18.377818</td>\n",
       "      <td>18.5</td>\n",
       "      <td>0.933422</td>\n",
       "    </tr>\n",
       "    <tr>\n",
       "      <th>12392</th>\n",
       "      <td>17.363829</td>\n",
       "      <td>18.5</td>\n",
       "      <td>inf</td>\n",
       "    </tr>\n",
       "  </tbody>\n",
       "</table>\n",
       "</div>"
      ],
      "text/plain": [
       "       median_sky  sky_limit  sigma_sky\n",
       "OBID                                   \n",
       "12398   18.889899       18.5   0.084998\n",
       "12382   17.781169       18.5        inf\n",
       "12367   18.683502       18.5        inf\n",
       "12366   17.431117       18.5   0.350555\n",
       "12383   18.377818       18.5   0.933422\n",
       "12392   17.363829       18.5        inf"
      ]
     },
     "execution_count": null,
     "metadata": {},
     "output_type": "execute_result"
    }
   ],
   "source": [
    "tests.stats.to_dataframe()[tests.stats.data_vars]"
   ]
  }
 ],
 "metadata": {
  "kernelspec": {
   "display_name": "python3",
   "language": "python",
   "name": "python3"
  }
 },
 "nbformat": 4,
 "nbformat_minor": 5
}
