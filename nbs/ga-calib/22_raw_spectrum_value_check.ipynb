{
 "cells": [
  {
   "cell_type": "markdown",
   "id": "dc0493e6",
   "metadata": {},
   "source": [
    "# Raw spectrum value check\n",
    "\n",
    "> Check that all raw spectra have real numbers and unsaturated pixels in their counts arrays."
   ]
  },
  {
   "cell_type": "code",
   "execution_count": null,
   "id": "19db9eab",
   "metadata": {},
   "outputs": [],
   "source": [
    "from qagmire.diagnostics import RawSpectrumValueCheck"
   ]
  },
  {
   "cell_type": "markdown",
   "id": "b7e17d58-c438-47b4-bfa5-2baf9ca79a53",
   "metadata": {},
   "source": [
    "## Test GA-CALIB dataset"
   ]
  },
  {
   "cell_type": "code",
   "execution_count": null,
   "id": "f63a1c6c-5716-40ee-90c0-8e24eb4a1816",
   "metadata": {},
   "outputs": [
    {
     "name": "stdout",
     "output_type": "stream",
     "text": [
      "\r",
      "Locating and converting where necessary:   0%|                                                                                      | 0/36 [00:00<?, ?it/s]"
     ]
    },
    {
     "name": "stdout",
     "output_type": "stream",
     "text": [
      "\r",
      "Locating and converting where necessary:   3%|██▏                                                                           | 1/36 [00:01<01:04,  1.85s/it]"
     ]
    },
    {
     "name": "stdout",
     "output_type": "stream",
     "text": [
      "\r",
      "Locating and converting where necessary:   8%|██████▌                                                                       | 3/36 [00:02<00:18,  1.77it/s]"
     ]
    },
    {
     "name": "stdout",
     "output_type": "stream",
     "text": [
      "\r",
      "Locating and converting where necessary:  19%|███████████████▏                                                              | 7/36 [00:02<00:05,  5.01it/s]"
     ]
    },
    {
     "name": "stdout",
     "output_type": "stream",
     "text": [
      "\r",
      "Locating and converting where necessary:  25%|███████████████████▌                                                          | 9/36 [00:04<00:11,  2.29it/s]"
     ]
    },
    {
     "name": "stdout",
     "output_type": "stream",
     "text": [
      "\r",
      "Locating and converting where necessary:  33%|█████████████████████████▋                                                   | 12/36 [00:04<00:06,  3.61it/s]"
     ]
    },
    {
     "name": "stdout",
     "output_type": "stream",
     "text": [
      "\r",
      "Locating and converting where necessary:  39%|█████████████████████████████▉                                               | 14/36 [00:04<00:04,  4.54it/s]"
     ]
    },
    {
     "name": "stdout",
     "output_type": "stream",
     "text": [
      "\r",
      "Locating and converting where necessary:  44%|██████████████████████████████████▏                                          | 16/36 [00:04<00:04,  4.69it/s]"
     ]
    },
    {
     "name": "stdout",
     "output_type": "stream",
     "text": [
      "\r",
      "Locating and converting where necessary:  50%|██████████████████████████████████████▌                                      | 18/36 [00:06<00:06,  2.93it/s]"
     ]
    },
    {
     "name": "stdout",
     "output_type": "stream",
     "text": [
      "\r",
      "Locating and converting where necessary:  61%|███████████████████████████████████████████████                              | 22/36 [00:06<00:03,  4.57it/s]"
     ]
    },
    {
     "name": "stdout",
     "output_type": "stream",
     "text": [
      "\r",
      "Locating and converting where necessary:  67%|███████████████████████████████████████████████████▎                         | 24/36 [00:06<00:02,  4.55it/s]"
     ]
    },
    {
     "name": "stdout",
     "output_type": "stream",
     "text": [
      "\r",
      "Locating and converting where necessary:  69%|█████████████████████████████████████████████████████▍                       | 25/36 [00:07<00:03,  3.15it/s]"
     ]
    },
    {
     "name": "stdout",
     "output_type": "stream",
     "text": [
      "\r",
      "Locating and converting where necessary:  72%|███████████████████████████████████████████████████████▌                     | 26/36 [00:07<00:03,  3.22it/s]"
     ]
    },
    {
     "name": "stdout",
     "output_type": "stream",
     "text": [
      "\r",
      "Locating and converting where necessary:  75%|█████████████████████████████████████████████████████████▊                   | 27/36 [00:08<00:02,  3.67it/s]"
     ]
    },
    {
     "name": "stdout",
     "output_type": "stream",
     "text": [
      "\r",
      "Locating and converting where necessary:  78%|███████████████████████████████████████████████████████████▉                 | 28/36 [00:08<00:01,  4.21it/s]"
     ]
    },
    {
     "name": "stdout",
     "output_type": "stream",
     "text": [
      "\r",
      "Locating and converting where necessary:  83%|████████████████████████████████████████████████████████████████▏            | 30/36 [00:08<00:01,  5.47it/s]"
     ]
    },
    {
     "name": "stdout",
     "output_type": "stream",
     "text": [
      "\r",
      "Locating and converting where necessary:  86%|██████████████████████████████████████████████████████████████████▎          | 31/36 [00:08<00:00,  5.55it/s]"
     ]
    },
    {
     "name": "stdout",
     "output_type": "stream",
     "text": [
      "\r",
      "Locating and converting where necessary:  89%|████████████████████████████████████████████████████████████████████▍        | 32/36 [00:08<00:00,  5.94it/s]"
     ]
    },
    {
     "name": "stdout",
     "output_type": "stream",
     "text": [
      "\r",
      "Locating and converting where necessary:  92%|██████████████████████████████████████████████████████████████████████▌      | 33/36 [00:09<00:01,  2.37it/s]"
     ]
    },
    {
     "name": "stdout",
     "output_type": "stream",
     "text": [
      "\r",
      "Locating and converting where necessary:  94%|████████████████████████████████████████████████████████████████████████▋    | 34/36 [00:09<00:00,  2.83it/s]"
     ]
    },
    {
     "name": "stdout",
     "output_type": "stream",
     "text": [
      "\r",
      "Locating and converting where necessary:  97%|██████████████████████████████████████████████████████████████████████████▊  | 35/36 [00:10<00:00,  3.26it/s]"
     ]
    },
    {
     "name": "stdout",
     "output_type": "stream",
     "text": [
      "\r",
      "Locating and converting where necessary: 100%|█████████████████████████████████████████████████████████████████████████████| 36/36 [00:10<00:00,  3.77it/s]"
     ]
    },
    {
     "name": "stdout",
     "output_type": "stream",
     "text": [
      "\r",
      "Locating and converting where necessary: 100%|█████████████████████████████████████████████████████████████████████████████| 36/36 [00:10<00:00,  3.48it/s]"
     ]
    },
    {
     "name": "stdout",
     "output_type": "stream",
     "text": [
      "\n",
      "Reading netCDF files... "
     ]
    },
    {
     "name": "stdout",
     "output_type": "stream",
     "text": [
      "took 1.36 s. Size is 5336.749 Mb\n",
      "Tests took 13.13 s to prepare (including reading data).\n"
     ]
    },
    {
     "name": "stdout",
     "output_type": "stream",
     "text": [
      "Tests took 7.47 s to perform.\n",
      "too_many_sat_in_counts1:\n",
      "    Are there too many pixels saturated above the ADU threshold in counts1?\n",
      "neg_pixels_in_counts1:\n",
      "    Are there negative pixel values in counts1?\n",
      "nan_pixels_in_counts1:\n",
      "    Are there non-finite pixel values in counts1?\n",
      "too_many_sat_in_counts2:\n",
      "    Are there too many pixels saturated above the ADU threshold in counts2?\n",
      "neg_pixels_in_counts2:\n",
      "    Are there negative pixel values in counts2?\n",
      "nan_pixels_in_counts2:\n",
      "    Are there non-finite pixel values in counts2?\n"
     ]
    }
   ],
   "source": [
    "tests = RawSpectrumValueCheck(n_processes=8)\n",
    "tests.run(folder=\"GA-CALIB\")"
   ]
  },
  {
   "cell_type": "code",
   "execution_count": null,
   "id": "add1a367-b20a-47bb-8de2-e8c0b197be64",
   "metadata": {},
   "outputs": [
    {
     "name": "stdout",
     "output_type": "stream",
     "text": [
      "6 varieties of test and 36 tested elements per variety, for total of 216 tests.\n",
      "13 tests failed (6.02%) and 203 tests passed (93.98%).\n"
     ]
    },
    {
     "data": {
      "text/html": [
       "<div>\n",
       "<style scoped>\n",
       "    .dataframe tbody tr th:only-of-type {\n",
       "        vertical-align: middle;\n",
       "    }\n",
       "\n",
       "    .dataframe tbody tr th {\n",
       "        vertical-align: top;\n",
       "    }\n",
       "\n",
       "    .dataframe thead tr th {\n",
       "        text-align: left;\n",
       "    }\n",
       "\n",
       "    .dataframe thead tr:last-of-type th {\n",
       "        text-align: right;\n",
       "    }\n",
       "</style>\n",
       "<table border=\"1\" class=\"dataframe\">\n",
       "  <thead>\n",
       "    <tr>\n",
       "      <th></th>\n",
       "      <th></th>\n",
       "      <th></th>\n",
       "      <th></th>\n",
       "      <th></th>\n",
       "      <th></th>\n",
       "      <th colspan=\"2\" halign=\"left\">failed</th>\n",
       "      <th>total fails</th>\n",
       "    </tr>\n",
       "    <tr>\n",
       "      <th></th>\n",
       "      <th></th>\n",
       "      <th></th>\n",
       "      <th></th>\n",
       "      <th></th>\n",
       "      <th>test</th>\n",
       "      <th>too_many_sat_in_counts1</th>\n",
       "      <th>too_many_sat_in_counts2</th>\n",
       "      <th></th>\n",
       "    </tr>\n",
       "    <tr>\n",
       "      <th>filename</th>\n",
       "      <th>RUN</th>\n",
       "      <th>CAMERA</th>\n",
       "      <th>MJD</th>\n",
       "      <th>NIGHT</th>\n",
       "      <th>OBID</th>\n",
       "      <th></th>\n",
       "      <th></th>\n",
       "      <th></th>\n",
       "    </tr>\n",
       "  </thead>\n",
       "  <tbody>\n",
       "    <tr>\n",
       "      <th>r3050928</th>\n",
       "      <th>3050928</th>\n",
       "      <th>RED</th>\n",
       "      <th>60385.97607</th>\n",
       "      <th>20240316</th>\n",
       "      <th>12366</th>\n",
       "      <td>True</td>\n",
       "      <td>True</td>\n",
       "      <td>2</td>\n",
       "    </tr>\n",
       "    <tr>\n",
       "      <th>r3051213</th>\n",
       "      <th>3051213</th>\n",
       "      <th>BLUE</th>\n",
       "      <th>60386.97421</th>\n",
       "      <th>20240317</th>\n",
       "      <th>12392</th>\n",
       "      <td>True</td>\n",
       "      <td>True</td>\n",
       "      <td>2</td>\n",
       "    </tr>\n",
       "    <tr>\n",
       "      <th>r3050613</th>\n",
       "      <th>3050613</th>\n",
       "      <th>RED</th>\n",
       "      <th>60384.88693</th>\n",
       "      <th>20240315</th>\n",
       "      <th>12398</th>\n",
       "      <td>True</td>\n",
       "      <td>False</td>\n",
       "      <td>1</td>\n",
       "    </tr>\n",
       "    <tr>\n",
       "      <th>r3050637</th>\n",
       "      <th>3050637</th>\n",
       "      <th>BLUE</th>\n",
       "      <th>60384.93435</th>\n",
       "      <th>20240315</th>\n",
       "      <th>12382</th>\n",
       "      <td>True</td>\n",
       "      <td>False</td>\n",
       "      <td>1</td>\n",
       "    </tr>\n",
       "    <tr>\n",
       "      <th>r3050638</th>\n",
       "      <th>3050638</th>\n",
       "      <th>RED</th>\n",
       "      <th>60384.94846</th>\n",
       "      <th>20240315</th>\n",
       "      <th>12382</th>\n",
       "      <td>True</td>\n",
       "      <td>False</td>\n",
       "      <td>1</td>\n",
       "    </tr>\n",
       "    <tr>\n",
       "      <th>r3050641</th>\n",
       "      <th>3050641</th>\n",
       "      <th>BLUE</th>\n",
       "      <th>60384.96260</th>\n",
       "      <th>20240315</th>\n",
       "      <th>12382</th>\n",
       "      <td>False</td>\n",
       "      <td>True</td>\n",
       "      <td>1</td>\n",
       "    </tr>\n",
       "    <tr>\n",
       "      <th>r3050926</th>\n",
       "      <th>3050926</th>\n",
       "      <th>RED</th>\n",
       "      <th>60385.96193</th>\n",
       "      <th>20240316</th>\n",
       "      <th>12366</th>\n",
       "      <td>True</td>\n",
       "      <td>False</td>\n",
       "      <td>1</td>\n",
       "    </tr>\n",
       "    <tr>\n",
       "      <th>r3050929</th>\n",
       "      <th>3050929</th>\n",
       "      <th>BLUE</th>\n",
       "      <th>60385.97609</th>\n",
       "      <th>20240316</th>\n",
       "      <th>12366</th>\n",
       "      <td>True</td>\n",
       "      <td>False</td>\n",
       "      <td>1</td>\n",
       "    </tr>\n",
       "    <tr>\n",
       "      <th>r3051172</th>\n",
       "      <th>3051172</th>\n",
       "      <th>RED</th>\n",
       "      <th>60386.87492</th>\n",
       "      <th>20240317</th>\n",
       "      <th>12383</th>\n",
       "      <td>False</td>\n",
       "      <td>True</td>\n",
       "      <td>1</td>\n",
       "    </tr>\n",
       "    <tr>\n",
       "      <th>r3051174</th>\n",
       "      <th>3051174</th>\n",
       "      <th>RED</th>\n",
       "      <th>60386.88906</th>\n",
       "      <th>20240317</th>\n",
       "      <th>12383</th>\n",
       "      <td>True</td>\n",
       "      <td>False</td>\n",
       "      <td>1</td>\n",
       "    </tr>\n",
       "    <tr>\n",
       "      <th>r3051176</th>\n",
       "      <th>3051176</th>\n",
       "      <th>RED</th>\n",
       "      <th>60386.90320</th>\n",
       "      <th>20240317</th>\n",
       "      <th>12383</th>\n",
       "      <td>False</td>\n",
       "      <td>True</td>\n",
       "      <td>1</td>\n",
       "    </tr>\n",
       "  </tbody>\n",
       "</table>\n",
       "</div>"
      ],
      "text/plain": [
       "                                                                    failed  \\\n",
       "test                                               too_many_sat_in_counts1   \n",
       "filename RUN     CAMERA MJD         NIGHT    OBID                            \n",
       "r3050928 3050928 RED    60385.97607 20240316 12366                    True   \n",
       "r3051213 3051213 BLUE   60386.97421 20240317 12392                    True   \n",
       "r3050613 3050613 RED    60384.88693 20240315 12398                    True   \n",
       "r3050637 3050637 BLUE   60384.93435 20240315 12382                    True   \n",
       "r3050638 3050638 RED    60384.94846 20240315 12382                    True   \n",
       "r3050641 3050641 BLUE   60384.96260 20240315 12382                   False   \n",
       "r3050926 3050926 RED    60385.96193 20240316 12366                    True   \n",
       "r3050929 3050929 BLUE   60385.97609 20240316 12366                    True   \n",
       "r3051172 3051172 RED    60386.87492 20240317 12383                   False   \n",
       "r3051174 3051174 RED    60386.88906 20240317 12383                    True   \n",
       "r3051176 3051176 RED    60386.90320 20240317 12383                   False   \n",
       "\n",
       "                                                                            \\\n",
       "test                                               too_many_sat_in_counts2   \n",
       "filename RUN     CAMERA MJD         NIGHT    OBID                            \n",
       "r3050928 3050928 RED    60385.97607 20240316 12366                    True   \n",
       "r3051213 3051213 BLUE   60386.97421 20240317 12392                    True   \n",
       "r3050613 3050613 RED    60384.88693 20240315 12398                   False   \n",
       "r3050637 3050637 BLUE   60384.93435 20240315 12382                   False   \n",
       "r3050638 3050638 RED    60384.94846 20240315 12382                   False   \n",
       "r3050641 3050641 BLUE   60384.96260 20240315 12382                    True   \n",
       "r3050926 3050926 RED    60385.96193 20240316 12366                   False   \n",
       "r3050929 3050929 BLUE   60385.97609 20240316 12366                   False   \n",
       "r3051172 3051172 RED    60386.87492 20240317 12383                    True   \n",
       "r3051174 3051174 RED    60386.88906 20240317 12383                   False   \n",
       "r3051176 3051176 RED    60386.90320 20240317 12383                    True   \n",
       "\n",
       "                                                   total fails  \n",
       "test                                                            \n",
       "filename RUN     CAMERA MJD         NIGHT    OBID               \n",
       "r3050928 3050928 RED    60385.97607 20240316 12366           2  \n",
       "r3051213 3051213 BLUE   60386.97421 20240317 12392           2  \n",
       "r3050613 3050613 RED    60384.88693 20240315 12398           1  \n",
       "r3050637 3050637 BLUE   60384.93435 20240315 12382           1  \n",
       "r3050638 3050638 RED    60384.94846 20240315 12382           1  \n",
       "r3050641 3050641 BLUE   60384.96260 20240315 12382           1  \n",
       "r3050926 3050926 RED    60385.96193 20240316 12366           1  \n",
       "r3050929 3050929 BLUE   60385.97609 20240316 12366           1  \n",
       "r3051172 3051172 RED    60386.87492 20240317 12383           1  \n",
       "r3051174 3051174 RED    60386.88906 20240317 12383           1  \n",
       "r3051176 3051176 RED    60386.90320 20240317 12383           1  "
      ]
     },
     "execution_count": null,
     "metadata": {},
     "output_type": "execute_result"
    }
   ],
   "source": [
    "tests.summary()"
   ]
  },
  {
   "cell_type": "code",
   "execution_count": null,
   "id": "7292190f-7c60-4804-a0a2-2a99b7dd8d44",
   "metadata": {},
   "outputs": [
    {
     "name": "stdout",
     "output_type": "stream",
     "text": [
      "6 varieties of test and 36 tested elements per variety, for total of 216 tests.\n",
      "13 tests failed (6.02%) and 203 tests passed (93.98%).\n"
     ]
    },
    {
     "data": {
      "text/html": [
       "<div>\n",
       "<style scoped>\n",
       "    .dataframe tbody tr th:only-of-type {\n",
       "        vertical-align: middle;\n",
       "    }\n",
       "\n",
       "    .dataframe tbody tr th {\n",
       "        vertical-align: top;\n",
       "    }\n",
       "\n",
       "    .dataframe thead tr th {\n",
       "        text-align: left;\n",
       "    }\n",
       "\n",
       "    .dataframe thead tr:last-of-type th {\n",
       "        text-align: right;\n",
       "    }\n",
       "</style>\n",
       "<table border=\"1\" class=\"dataframe\">\n",
       "  <thead>\n",
       "    <tr>\n",
       "      <th></th>\n",
       "      <th colspan=\"11\" halign=\"left\">failed</th>\n",
       "      <th>total fails</th>\n",
       "    </tr>\n",
       "    <tr>\n",
       "      <th>RUN</th>\n",
       "      <th>3050613</th>\n",
       "      <th>3050637</th>\n",
       "      <th>3050638</th>\n",
       "      <th>3050641</th>\n",
       "      <th>3050926</th>\n",
       "      <th>3050928</th>\n",
       "      <th>3050929</th>\n",
       "      <th>3051172</th>\n",
       "      <th>3051174</th>\n",
       "      <th>3051176</th>\n",
       "      <th>3051213</th>\n",
       "      <th></th>\n",
       "    </tr>\n",
       "    <tr>\n",
       "      <th>test</th>\n",
       "      <th></th>\n",
       "      <th></th>\n",
       "      <th></th>\n",
       "      <th></th>\n",
       "      <th></th>\n",
       "      <th></th>\n",
       "      <th></th>\n",
       "      <th></th>\n",
       "      <th></th>\n",
       "      <th></th>\n",
       "      <th></th>\n",
       "      <th></th>\n",
       "    </tr>\n",
       "  </thead>\n",
       "  <tbody>\n",
       "    <tr>\n",
       "      <th>too_many_sat_in_counts1</th>\n",
       "      <td>1</td>\n",
       "      <td>1</td>\n",
       "      <td>1</td>\n",
       "      <td>0</td>\n",
       "      <td>1</td>\n",
       "      <td>1</td>\n",
       "      <td>1</td>\n",
       "      <td>0</td>\n",
       "      <td>1</td>\n",
       "      <td>0</td>\n",
       "      <td>1</td>\n",
       "      <td>8</td>\n",
       "    </tr>\n",
       "    <tr>\n",
       "      <th>too_many_sat_in_counts2</th>\n",
       "      <td>0</td>\n",
       "      <td>0</td>\n",
       "      <td>0</td>\n",
       "      <td>1</td>\n",
       "      <td>0</td>\n",
       "      <td>1</td>\n",
       "      <td>0</td>\n",
       "      <td>1</td>\n",
       "      <td>0</td>\n",
       "      <td>1</td>\n",
       "      <td>1</td>\n",
       "      <td>5</td>\n",
       "    </tr>\n",
       "  </tbody>\n",
       "</table>\n",
       "</div>"
      ],
      "text/plain": [
       "                         failed                                          \\\n",
       "RUN                     3050613 3050637 3050638 3050641 3050926 3050928   \n",
       "test                                                                      \n",
       "too_many_sat_in_counts1       1       1       1       0       1       1   \n",
       "too_many_sat_in_counts2       0       0       0       1       0       1   \n",
       "\n",
       "                                                                total fails  \n",
       "RUN                     3050929 3051172 3051174 3051176 3051213              \n",
       "test                                                                         \n",
       "too_many_sat_in_counts1       1       0       1       0       1           8  \n",
       "too_many_sat_in_counts2       0       1       0       1       1           5  "
      ]
     },
     "execution_count": null,
     "metadata": {},
     "output_type": "execute_result"
    }
   ],
   "source": [
    "tests.summary(per_test=True, by=\"RUN\")"
   ]
  },
  {
   "cell_type": "markdown",
   "id": "115aa3ca-7408-4e2f-a623-bc17c82daaa3",
   "metadata": {},
   "source": [
    "## Details\n",
    "\n",
    "There are no NaN or negative pixels, but around a third of the runs contain saturated pixels. Let's find out how many."
   ]
  },
  {
   "cell_type": "code",
   "execution_count": null,
   "id": "c25e399f-968d-4290-ac5a-090885da7e7d",
   "metadata": {},
   "outputs": [],
   "source": [
    "df = tests.stats.to_dataframe()"
   ]
  },
  {
   "cell_type": "code",
   "execution_count": null,
   "id": "72f74c91-280c-438a-ba70-28fe6162917c",
   "metadata": {},
   "outputs": [
    {
     "data": {
      "text/html": [
       "<div>\n",
       "<style scoped>\n",
       "    .dataframe tbody tr th:only-of-type {\n",
       "        vertical-align: middle;\n",
       "    }\n",
       "\n",
       "    .dataframe tbody tr th {\n",
       "        vertical-align: top;\n",
       "    }\n",
       "\n",
       "    .dataframe thead th {\n",
       "        text-align: right;\n",
       "    }\n",
       "</style>\n",
       "<table border=\"1\" class=\"dataframe\">\n",
       "  <thead>\n",
       "    <tr style=\"text-align: right;\">\n",
       "      <th></th>\n",
       "      <th>counts1_sat</th>\n",
       "      <th>counts2_sat</th>\n",
       "    </tr>\n",
       "    <tr>\n",
       "      <th>filename</th>\n",
       "      <th></th>\n",
       "      <th></th>\n",
       "    </tr>\n",
       "  </thead>\n",
       "  <tbody>\n",
       "    <tr>\n",
       "      <th>r3050613</th>\n",
       "      <td>1</td>\n",
       "      <td>0</td>\n",
       "    </tr>\n",
       "    <tr>\n",
       "      <th>r3050637</th>\n",
       "      <td>3</td>\n",
       "      <td>0</td>\n",
       "    </tr>\n",
       "    <tr>\n",
       "      <th>r3050641</th>\n",
       "      <td>0</td>\n",
       "      <td>4</td>\n",
       "    </tr>\n",
       "    <tr>\n",
       "      <th>r3050638</th>\n",
       "      <td>1</td>\n",
       "      <td>0</td>\n",
       "    </tr>\n",
       "    <tr>\n",
       "      <th>r3050926</th>\n",
       "      <td>1</td>\n",
       "      <td>0</td>\n",
       "    </tr>\n",
       "    <tr>\n",
       "      <th>r3050928</th>\n",
       "      <td>5</td>\n",
       "      <td>7</td>\n",
       "    </tr>\n",
       "    <tr>\n",
       "      <th>r3050929</th>\n",
       "      <td>8</td>\n",
       "      <td>0</td>\n",
       "    </tr>\n",
       "    <tr>\n",
       "      <th>r3051172</th>\n",
       "      <td>0</td>\n",
       "      <td>1</td>\n",
       "    </tr>\n",
       "    <tr>\n",
       "      <th>r3051174</th>\n",
       "      <td>1</td>\n",
       "      <td>0</td>\n",
       "    </tr>\n",
       "    <tr>\n",
       "      <th>r3051176</th>\n",
       "      <td>0</td>\n",
       "      <td>1</td>\n",
       "    </tr>\n",
       "    <tr>\n",
       "      <th>r3051213</th>\n",
       "      <td>1</td>\n",
       "      <td>1</td>\n",
       "    </tr>\n",
       "  </tbody>\n",
       "</table>\n",
       "</div>"
      ],
      "text/plain": [
       "          counts1_sat  counts2_sat\n",
       "filename                          \n",
       "r3050613            1            0\n",
       "r3050637            3            0\n",
       "r3050641            0            4\n",
       "r3050638            1            0\n",
       "r3050926            1            0\n",
       "r3050928            5            7\n",
       "r3050929            8            0\n",
       "r3051172            0            1\n",
       "r3051174            1            0\n",
       "r3051176            0            1\n",
       "r3051213            1            1"
      ]
     },
     "execution_count": null,
     "metadata": {},
     "output_type": "execute_result"
    }
   ],
   "source": [
    "sat_counts = df[[\"counts1_sat\", \"counts2_sat\"]]\n",
    "sat_counts = sat_counts[sat_counts.sum(axis=\"columns\") > 0]\n",
    "sat_counts"
   ]
  },
  {
   "cell_type": "markdown",
   "id": "540184e9-a490-482a-b3bf-ee206fe59699",
   "metadata": {},
   "source": [
    "Only a few saturated pixels in each image. Could set `n_allowed_saturated_pixels=10` to allow these tests to pass."
   ]
  }
 ],
 "metadata": {
  "kernelspec": {
   "display_name": "python3",
   "language": "python",
   "name": "python3"
  }
 },
 "nbformat": 4,
 "nbformat_minor": 5
}
