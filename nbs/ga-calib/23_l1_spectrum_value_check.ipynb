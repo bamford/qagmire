{
 "cells": [
  {
   "cell_type": "markdown",
   "id": "dc0493e6",
   "metadata": {},
   "source": [
    "# L1 spectrum value check\n",
    "\n",
    "> Check that all L1 spectra have valid flux/ivar/sensfunc arrays."
   ]
  },
  {
   "cell_type": "code",
   "execution_count": null,
   "id": "23332175-f8be-4b76-927d-438042c90a2d",
   "metadata": {},
   "outputs": [],
   "source": [
    "from qagmire.diagnostics import L1SpectrumValueCheck\n",
    "from qagmire.diagnostics.l1_spectrum_value_check import plot_qty_and_nans"
   ]
  },
  {
   "cell_type": "markdown",
   "id": "76b422b9-f73f-4248-a08b-d70b1d2ec1ee",
   "metadata": {},
   "source": [
    "## Test GA-CALIB dataset"
   ]
  },
  {
   "cell_type": "markdown",
   "id": "a4a63c90-c121-4f4b-b7d2-38e44c12ec5f",
   "metadata": {},
   "source": [
    "### Red camera"
   ]
  },
  {
   "cell_type": "code",
   "execution_count": null,
   "id": "f63a1c6c-5716-40ee-90c0-8e24eb4a1816",
   "metadata": {},
   "outputs": [
    {
     "name": "stdout",
     "output_type": "stream",
     "text": [
      "\r",
      "Locating and converting where necessary:   0%|                                                                                      | 0/36 [00:00<?, ?it/s]"
     ]
    },
    {
     "name": "stdout",
     "output_type": "stream",
     "text": [
      "\r",
      "Locating and converting where necessary:   3%|██▏                                                                           | 1/36 [00:01<00:37,  1.08s/it]"
     ]
    },
    {
     "name": "stdout",
     "output_type": "stream",
     "text": [
      "\r",
      "Locating and converting where necessary:  11%|████████▋                                                                     | 4/36 [00:01<00:08,  3.63it/s]"
     ]
    },
    {
     "name": "stdout",
     "output_type": "stream",
     "text": [
      "\r",
      "Locating and converting where necessary:  14%|██████████▊                                                                   | 5/36 [00:01<00:08,  3.77it/s]"
     ]
    },
    {
     "name": "stdout",
     "output_type": "stream",
     "text": [
      "\r",
      "Locating and converting where necessary:  19%|███████████████▏                                                              | 7/36 [00:02<00:07,  3.68it/s]"
     ]
    },
    {
     "name": "stdout",
     "output_type": "stream",
     "text": [
      "\r",
      "Locating and converting where necessary:  22%|█████████████████▎                                                            | 8/36 [00:02<00:07,  3.55it/s]"
     ]
    },
    {
     "name": "stdout",
     "output_type": "stream",
     "text": [
      "\r",
      "Locating and converting where necessary:  25%|███████████████████▌                                                          | 9/36 [00:02<00:06,  3.91it/s]"
     ]
    },
    {
     "name": "stdout",
     "output_type": "stream",
     "text": [
      "\r",
      "Locating and converting where necessary:  31%|███████████████████████▌                                                     | 11/36 [00:02<00:04,  5.92it/s]"
     ]
    },
    {
     "name": "stdout",
     "output_type": "stream",
     "text": [
      "\r",
      "Locating and converting where necessary:  33%|█████████████████████████▋                                                   | 12/36 [00:02<00:03,  6.45it/s]"
     ]
    },
    {
     "name": "stdout",
     "output_type": "stream",
     "text": [
      "\r",
      "Locating and converting where necessary:  36%|███████████████████████████▊                                                 | 13/36 [00:03<00:05,  3.95it/s]"
     ]
    },
    {
     "name": "stdout",
     "output_type": "stream",
     "text": [
      "\r",
      "Locating and converting where necessary:  42%|████████████████████████████████                                             | 15/36 [00:03<00:03,  5.91it/s]"
     ]
    },
    {
     "name": "stdout",
     "output_type": "stream",
     "text": [
      "\r",
      "Locating and converting where necessary:  47%|████████████████████████████████████▎                                        | 17/36 [00:03<00:03,  5.68it/s]"
     ]
    },
    {
     "name": "stdout",
     "output_type": "stream",
     "text": [
      "\r",
      "Locating and converting where necessary:  53%|████████████████████████████████████████▋                                    | 19/36 [00:04<00:03,  5.61it/s]"
     ]
    },
    {
     "name": "stdout",
     "output_type": "stream",
     "text": [
      "\r",
      "Locating and converting where necessary:  58%|████████████████████████████████████████████▉                                | 21/36 [00:04<00:03,  4.71it/s]"
     ]
    },
    {
     "name": "stdout",
     "output_type": "stream",
     "text": [
      "\r",
      "Locating and converting where necessary:  64%|█████████████████████████████████████████████████▏                           | 23/36 [00:04<00:02,  6.24it/s]"
     ]
    },
    {
     "name": "stdout",
     "output_type": "stream",
     "text": [
      "\r",
      "Locating and converting where necessary:  69%|█████████████████████████████████████████████████████▍                       | 25/36 [00:05<00:02,  3.96it/s]"
     ]
    },
    {
     "name": "stdout",
     "output_type": "stream",
     "text": [
      "\r",
      "Locating and converting where necessary:  72%|███████████████████████████████████████████████████████▌                     | 26/36 [00:05<00:02,  4.24it/s]"
     ]
    },
    {
     "name": "stdout",
     "output_type": "stream",
     "text": [
      "\r",
      "Locating and converting where necessary:  75%|█████████████████████████████████████████████████████████▊                   | 27/36 [00:06<00:02,  4.26it/s]"
     ]
    },
    {
     "name": "stdout",
     "output_type": "stream",
     "text": [
      "\r",
      "Locating and converting where necessary:  78%|███████████████████████████████████████████████████████████▉                 | 28/36 [00:06<00:01,  4.23it/s]"
     ]
    },
    {
     "name": "stdout",
     "output_type": "stream",
     "text": [
      "\r",
      "Locating and converting where necessary:  83%|████████████████████████████████████████████████████████████████▏            | 30/36 [00:07<00:01,  3.06it/s]"
     ]
    },
    {
     "name": "stdout",
     "output_type": "stream",
     "text": [
      "\r",
      "Locating and converting where necessary:  86%|██████████████████████████████████████████████████████████████████▎          | 31/36 [00:07<00:01,  3.28it/s]"
     ]
    },
    {
     "name": "stdout",
     "output_type": "stream",
     "text": [
      "\r",
      "Locating and converting where necessary:  89%|████████████████████████████████████████████████████████████████████▍        | 32/36 [00:07<00:01,  3.89it/s]"
     ]
    },
    {
     "name": "stdout",
     "output_type": "stream",
     "text": [
      "\r",
      "Locating and converting where necessary:  92%|██████████████████████████████████████████████████████████████████████▌      | 33/36 [00:07<00:00,  3.86it/s]"
     ]
    },
    {
     "name": "stdout",
     "output_type": "stream",
     "text": [
      "\r",
      "Locating and converting where necessary:  94%|████████████████████████████████████████████████████████████████████████▋    | 34/36 [00:09<00:00,  2.03it/s]"
     ]
    },
    {
     "name": "stdout",
     "output_type": "stream",
     "text": [
      "\r",
      "Locating and converting where necessary: 100%|█████████████████████████████████████████████████████████████████████████████| 36/36 [00:09<00:00,  2.93it/s]"
     ]
    },
    {
     "name": "stdout",
     "output_type": "stream",
     "text": [
      "\r",
      "Locating and converting where necessary: 100%|█████████████████████████████████████████████████████████████████████████████| 36/36 [00:09<00:00,  3.83it/s]"
     ]
    },
    {
     "name": "stdout",
     "output_type": "stream",
     "text": [
      "\n",
      "Reading netCDF files... "
     ]
    },
    {
     "name": "stdout",
     "output_type": "stream",
     "text": [
      "took 1.66 s. Size is 15887.744 Mb\n",
      "Tests took 11.66 s to prepare (including reading data).\n"
     ]
    },
    {
     "name": "stdout",
     "output_type": "stream",
     "text": [
      "Tests took 9.71 s to perform.\n",
      "nans_in_RED_FLUX:\n",
      "    Are there non-finite values in RED_FLUX?\n",
      "nans_in_RED_FLUX_NOSS:\n",
      "    Are there non-finite values in RED_FLUX_NOSS?\n",
      "nans_in_RED_IVAR:\n",
      "    Are there non-finite values in RED_IVAR?\n",
      "nans_in_RED_IVAR_NOSS:\n",
      "    Are there non-finite values in RED_IVAR_NOSS?\n",
      "nans_in_RED_SENSFUNC:\n",
      "    Are there non-finite values in RED_SENSFUNC?\n",
      "negs_in_RED_IVAR:\n",
      "    Are there negative values in RED_IVAR?\n",
      "negs_in_RED_IVAR_NOSS:\n",
      "    Are there negative values in RED_IVAR_NOSS?\n",
      "negs_in_RED_SENSFUNC:\n",
      "    Are there negative values in RED_SENSFUNC?\n"
     ]
    }
   ],
   "source": [
    "red_tests = L1SpectrumValueCheck(camera=\"RED\", n_processes=8)\n",
    "red_tests.run(folder=\"GA-CALIB\")"
   ]
  },
  {
   "cell_type": "code",
   "execution_count": null,
   "id": "c30d0f7d-2bb6-4bd6-9b2b-52e0c1d16bfd",
   "metadata": {},
   "outputs": [
    {
     "name": "stdout",
     "output_type": "stream",
     "text": [
      "8 varieties of test and 17280 tested elements per variety, for total of 138240 tests.\n"
     ]
    },
    {
     "name": "stdout",
     "output_type": "stream",
     "text": [
      "All tests passed.\n"
     ]
    }
   ],
   "source": [
    "red_tests.summary()"
   ]
  },
  {
   "cell_type": "code",
   "execution_count": null,
   "id": "0fddfe97-0cdf-4095-a97d-d8e93d636836",
   "metadata": {},
   "outputs": [
    {
     "name": "stdout",
     "output_type": "stream",
     "text": [
      "8 varieties of test and 17280 tested elements per variety, for total of 138240 tests.\n",
      "0 tests failed (0.00%) and 138240 tests passed (100.00%).\n"
     ]
    },
    {
     "data": {
      "text/html": [
       "<div>\n",
       "<style scoped>\n",
       "    .dataframe tbody tr th:only-of-type {\n",
       "        vertical-align: middle;\n",
       "    }\n",
       "\n",
       "    .dataframe tbody tr th {\n",
       "        vertical-align: top;\n",
       "    }\n",
       "\n",
       "    .dataframe thead tr th {\n",
       "        text-align: left;\n",
       "    }\n",
       "\n",
       "    .dataframe thead tr:last-of-type th {\n",
       "        text-align: right;\n",
       "    }\n",
       "</style>\n",
       "<table border=\"1\" class=\"dataframe\">\n",
       "  <thead>\n",
       "    <tr>\n",
       "      <th></th>\n",
       "      <th colspan=\"8\" halign=\"left\">failed</th>\n",
       "    </tr>\n",
       "    <tr>\n",
       "      <th>test</th>\n",
       "      <th>nans_in_RED_FLUX</th>\n",
       "      <th>nans_in_RED_FLUX_NOSS</th>\n",
       "      <th>nans_in_RED_IVAR</th>\n",
       "      <th>nans_in_RED_IVAR_NOSS</th>\n",
       "      <th>nans_in_RED_SENSFUNC</th>\n",
       "      <th>negs_in_RED_IVAR</th>\n",
       "      <th>negs_in_RED_IVAR_NOSS</th>\n",
       "      <th>negs_in_RED_SENSFUNC</th>\n",
       "    </tr>\n",
       "    <tr>\n",
       "      <th>RUN</th>\n",
       "      <th></th>\n",
       "      <th></th>\n",
       "      <th></th>\n",
       "      <th></th>\n",
       "      <th></th>\n",
       "      <th></th>\n",
       "      <th></th>\n",
       "      <th></th>\n",
       "    </tr>\n",
       "  </thead>\n",
       "  <tbody>\n",
       "    <tr>\n",
       "      <th>3050611</th>\n",
       "      <td>0</td>\n",
       "      <td>0</td>\n",
       "      <td>0</td>\n",
       "      <td>0</td>\n",
       "      <td>0</td>\n",
       "      <td>0</td>\n",
       "      <td>0</td>\n",
       "      <td>0</td>\n",
       "    </tr>\n",
       "    <tr>\n",
       "      <th>3050613</th>\n",
       "      <td>0</td>\n",
       "      <td>0</td>\n",
       "      <td>0</td>\n",
       "      <td>0</td>\n",
       "      <td>0</td>\n",
       "      <td>0</td>\n",
       "      <td>0</td>\n",
       "      <td>0</td>\n",
       "    </tr>\n",
       "    <tr>\n",
       "      <th>3050615</th>\n",
       "      <td>0</td>\n",
       "      <td>0</td>\n",
       "      <td>0</td>\n",
       "      <td>0</td>\n",
       "      <td>0</td>\n",
       "      <td>0</td>\n",
       "      <td>0</td>\n",
       "      <td>0</td>\n",
       "    </tr>\n",
       "    <tr>\n",
       "      <th>3050636</th>\n",
       "      <td>0</td>\n",
       "      <td>0</td>\n",
       "      <td>0</td>\n",
       "      <td>0</td>\n",
       "      <td>0</td>\n",
       "      <td>0</td>\n",
       "      <td>0</td>\n",
       "      <td>0</td>\n",
       "    </tr>\n",
       "    <tr>\n",
       "      <th>3050638</th>\n",
       "      <td>0</td>\n",
       "      <td>0</td>\n",
       "      <td>0</td>\n",
       "      <td>0</td>\n",
       "      <td>0</td>\n",
       "      <td>0</td>\n",
       "      <td>0</td>\n",
       "      <td>0</td>\n",
       "    </tr>\n",
       "    <tr>\n",
       "      <th>3050640</th>\n",
       "      <td>0</td>\n",
       "      <td>0</td>\n",
       "      <td>0</td>\n",
       "      <td>0</td>\n",
       "      <td>0</td>\n",
       "      <td>0</td>\n",
       "      <td>0</td>\n",
       "      <td>0</td>\n",
       "    </tr>\n",
       "    <tr>\n",
       "      <th>3050886</th>\n",
       "      <td>0</td>\n",
       "      <td>0</td>\n",
       "      <td>0</td>\n",
       "      <td>0</td>\n",
       "      <td>0</td>\n",
       "      <td>0</td>\n",
       "      <td>0</td>\n",
       "      <td>0</td>\n",
       "    </tr>\n",
       "    <tr>\n",
       "      <th>3050888</th>\n",
       "      <td>0</td>\n",
       "      <td>0</td>\n",
       "      <td>0</td>\n",
       "      <td>0</td>\n",
       "      <td>0</td>\n",
       "      <td>0</td>\n",
       "      <td>0</td>\n",
       "      <td>0</td>\n",
       "    </tr>\n",
       "    <tr>\n",
       "      <th>3050890</th>\n",
       "      <td>0</td>\n",
       "      <td>0</td>\n",
       "      <td>0</td>\n",
       "      <td>0</td>\n",
       "      <td>0</td>\n",
       "      <td>0</td>\n",
       "      <td>0</td>\n",
       "      <td>0</td>\n",
       "    </tr>\n",
       "    <tr>\n",
       "      <th>3050924</th>\n",
       "      <td>0</td>\n",
       "      <td>0</td>\n",
       "      <td>0</td>\n",
       "      <td>0</td>\n",
       "      <td>0</td>\n",
       "      <td>0</td>\n",
       "      <td>0</td>\n",
       "      <td>0</td>\n",
       "    </tr>\n",
       "    <tr>\n",
       "      <th>3050926</th>\n",
       "      <td>0</td>\n",
       "      <td>0</td>\n",
       "      <td>0</td>\n",
       "      <td>0</td>\n",
       "      <td>0</td>\n",
       "      <td>0</td>\n",
       "      <td>0</td>\n",
       "      <td>0</td>\n",
       "    </tr>\n",
       "    <tr>\n",
       "      <th>3050928</th>\n",
       "      <td>0</td>\n",
       "      <td>0</td>\n",
       "      <td>0</td>\n",
       "      <td>0</td>\n",
       "      <td>0</td>\n",
       "      <td>0</td>\n",
       "      <td>0</td>\n",
       "      <td>0</td>\n",
       "    </tr>\n",
       "    <tr>\n",
       "      <th>3051172</th>\n",
       "      <td>0</td>\n",
       "      <td>0</td>\n",
       "      <td>0</td>\n",
       "      <td>0</td>\n",
       "      <td>0</td>\n",
       "      <td>0</td>\n",
       "      <td>0</td>\n",
       "      <td>0</td>\n",
       "    </tr>\n",
       "    <tr>\n",
       "      <th>3051174</th>\n",
       "      <td>0</td>\n",
       "      <td>0</td>\n",
       "      <td>0</td>\n",
       "      <td>0</td>\n",
       "      <td>0</td>\n",
       "      <td>0</td>\n",
       "      <td>0</td>\n",
       "      <td>0</td>\n",
       "    </tr>\n",
       "    <tr>\n",
       "      <th>3051176</th>\n",
       "      <td>0</td>\n",
       "      <td>0</td>\n",
       "      <td>0</td>\n",
       "      <td>0</td>\n",
       "      <td>0</td>\n",
       "      <td>0</td>\n",
       "      <td>0</td>\n",
       "      <td>0</td>\n",
       "    </tr>\n",
       "    <tr>\n",
       "      <th>3051210</th>\n",
       "      <td>0</td>\n",
       "      <td>0</td>\n",
       "      <td>0</td>\n",
       "      <td>0</td>\n",
       "      <td>0</td>\n",
       "      <td>0</td>\n",
       "      <td>0</td>\n",
       "      <td>0</td>\n",
       "    </tr>\n",
       "    <tr>\n",
       "      <th>3051212</th>\n",
       "      <td>0</td>\n",
       "      <td>0</td>\n",
       "      <td>0</td>\n",
       "      <td>0</td>\n",
       "      <td>0</td>\n",
       "      <td>0</td>\n",
       "      <td>0</td>\n",
       "      <td>0</td>\n",
       "    </tr>\n",
       "    <tr>\n",
       "      <th>3051214</th>\n",
       "      <td>0</td>\n",
       "      <td>0</td>\n",
       "      <td>0</td>\n",
       "      <td>0</td>\n",
       "      <td>0</td>\n",
       "      <td>0</td>\n",
       "      <td>0</td>\n",
       "      <td>0</td>\n",
       "    </tr>\n",
       "  </tbody>\n",
       "</table>\n",
       "</div>"
      ],
      "text/plain": [
       "                  failed                                         \\\n",
       "test    nans_in_RED_FLUX nans_in_RED_FLUX_NOSS nans_in_RED_IVAR   \n",
       "RUN                                                               \n",
       "3050611                0                     0                0   \n",
       "3050613                0                     0                0   \n",
       "3050615                0                     0                0   \n",
       "3050636                0                     0                0   \n",
       "3050638                0                     0                0   \n",
       "3050640                0                     0                0   \n",
       "3050886                0                     0                0   \n",
       "3050888                0                     0                0   \n",
       "3050890                0                     0                0   \n",
       "3050924                0                     0                0   \n",
       "3050926                0                     0                0   \n",
       "3050928                0                     0                0   \n",
       "3051172                0                     0                0   \n",
       "3051174                0                     0                0   \n",
       "3051176                0                     0                0   \n",
       "3051210                0                     0                0   \n",
       "3051212                0                     0                0   \n",
       "3051214                0                     0                0   \n",
       "\n",
       "                                                                     \\\n",
       "test    nans_in_RED_IVAR_NOSS nans_in_RED_SENSFUNC negs_in_RED_IVAR   \n",
       "RUN                                                                   \n",
       "3050611                     0                    0                0   \n",
       "3050613                     0                    0                0   \n",
       "3050615                     0                    0                0   \n",
       "3050636                     0                    0                0   \n",
       "3050638                     0                    0                0   \n",
       "3050640                     0                    0                0   \n",
       "3050886                     0                    0                0   \n",
       "3050888                     0                    0                0   \n",
       "3050890                     0                    0                0   \n",
       "3050924                     0                    0                0   \n",
       "3050926                     0                    0                0   \n",
       "3050928                     0                    0                0   \n",
       "3051172                     0                    0                0   \n",
       "3051174                     0                    0                0   \n",
       "3051176                     0                    0                0   \n",
       "3051210                     0                    0                0   \n",
       "3051212                     0                    0                0   \n",
       "3051214                     0                    0                0   \n",
       "\n",
       "                                                    \n",
       "test    negs_in_RED_IVAR_NOSS negs_in_RED_SENSFUNC  \n",
       "RUN                                                 \n",
       "3050611                     0                    0  \n",
       "3050613                     0                    0  \n",
       "3050615                     0                    0  \n",
       "3050636                     0                    0  \n",
       "3050638                     0                    0  \n",
       "3050640                     0                    0  \n",
       "3050886                     0                    0  \n",
       "3050888                     0                    0  \n",
       "3050890                     0                    0  \n",
       "3050924                     0                    0  \n",
       "3050926                     0                    0  \n",
       "3050928                     0                    0  \n",
       "3051172                     0                    0  \n",
       "3051174                     0                    0  \n",
       "3051176                     0                    0  \n",
       "3051210                     0                    0  \n",
       "3051212                     0                    0  \n",
       "3051214                     0                    0  "
      ]
     },
     "execution_count": null,
     "metadata": {},
     "output_type": "execute_result"
    }
   ],
   "source": [
    "red_tests.full_summary(by=\"RUN\")"
   ]
  },
  {
   "cell_type": "markdown",
   "id": "d519845a-906b-4c7d-938d-5d9e48f82587",
   "metadata": {},
   "source": [
    "### Blue camera"
   ]
  },
  {
   "cell_type": "code",
   "execution_count": null,
   "id": "69d6e0d1-0ec6-4fd5-b351-23ffdfc48ee7",
   "metadata": {},
   "outputs": [
    {
     "name": "stdout",
     "output_type": "stream",
     "text": [
      "\r",
      "Locating and converting where necessary:   0%|                                                                                      | 0/36 [00:00<?, ?it/s]"
     ]
    },
    {
     "name": "stdout",
     "output_type": "stream",
     "text": [
      "\r",
      "Locating and converting where necessary: 100%|███████████████████████████████████████████████████████████████████████████| 36/36 [00:00<00:00, 3601.46it/s]"
     ]
    },
    {
     "name": "stdout",
     "output_type": "stream",
     "text": [
      "\n",
      "Reading netCDF files... "
     ]
    },
    {
     "name": "stdout",
     "output_type": "stream",
     "text": [
      "took 0.65 s. Size is 15887.744 Mb\n",
      "Tests took 2.09 s to prepare (including reading data).\n"
     ]
    },
    {
     "name": "stdout",
     "output_type": "stream",
     "text": [
      "Tests took 7.59 s to perform.\n",
      "nans_in_BLUE_FLUX:\n",
      "    Are there non-finite values in BLUE_FLUX?\n",
      "nans_in_BLUE_FLUX_NOSS:\n",
      "    Are there non-finite values in BLUE_FLUX_NOSS?\n",
      "nans_in_BLUE_IVAR:\n",
      "    Are there non-finite values in BLUE_IVAR?\n",
      "nans_in_BLUE_IVAR_NOSS:\n",
      "    Are there non-finite values in BLUE_IVAR_NOSS?\n",
      "nans_in_BLUE_SENSFUNC:\n",
      "    Are there non-finite values in BLUE_SENSFUNC?\n",
      "negs_in_BLUE_IVAR:\n",
      "    Are there negative values in BLUE_IVAR?\n",
      "negs_in_BLUE_IVAR_NOSS:\n",
      "    Are there negative values in BLUE_IVAR_NOSS?\n",
      "negs_in_BLUE_SENSFUNC:\n",
      "    Are there negative values in BLUE_SENSFUNC?\n"
     ]
    }
   ],
   "source": [
    "blue_tests = L1SpectrumValueCheck(camera=\"BLUE\", n_processes=8)\n",
    "blue_tests.run(folder=\"GA-CALIB\")"
   ]
  },
  {
   "cell_type": "code",
   "execution_count": null,
   "id": "c66b1cb0-427c-4b85-a944-4e4b441c3ae2",
   "metadata": {},
   "outputs": [
    {
     "name": "stdout",
     "output_type": "stream",
     "text": [
      "8 varieties of test and 17280 tested elements per variety, for total of 138240 tests.\n"
     ]
    },
    {
     "name": "stdout",
     "output_type": "stream",
     "text": [
      "All tests passed.\n"
     ]
    }
   ],
   "source": [
    "blue_tests.summary()"
   ]
  },
  {
   "cell_type": "code",
   "execution_count": null,
   "id": "2e3f8f24-7f64-4f3b-b50b-7bf20ddc2638",
   "metadata": {},
   "outputs": [
    {
     "name": "stdout",
     "output_type": "stream",
     "text": [
      "8 varieties of test and 17280 tested elements per variety, for total of 138240 tests.\n"
     ]
    },
    {
     "name": "stdout",
     "output_type": "stream",
     "text": [
      "0 tests failed (0.00%) and 138240 tests passed (100.00%).\n"
     ]
    },
    {
     "data": {
      "text/html": [
       "<div>\n",
       "<style scoped>\n",
       "    .dataframe tbody tr th:only-of-type {\n",
       "        vertical-align: middle;\n",
       "    }\n",
       "\n",
       "    .dataframe tbody tr th {\n",
       "        vertical-align: top;\n",
       "    }\n",
       "\n",
       "    .dataframe thead tr th {\n",
       "        text-align: left;\n",
       "    }\n",
       "\n",
       "    .dataframe thead tr:last-of-type th {\n",
       "        text-align: right;\n",
       "    }\n",
       "</style>\n",
       "<table border=\"1\" class=\"dataframe\">\n",
       "  <thead>\n",
       "    <tr>\n",
       "      <th></th>\n",
       "      <th colspan=\"8\" halign=\"left\">failed</th>\n",
       "    </tr>\n",
       "    <tr>\n",
       "      <th>test</th>\n",
       "      <th>nans_in_BLUE_FLUX</th>\n",
       "      <th>nans_in_BLUE_FLUX_NOSS</th>\n",
       "      <th>nans_in_BLUE_IVAR</th>\n",
       "      <th>nans_in_BLUE_IVAR_NOSS</th>\n",
       "      <th>nans_in_BLUE_SENSFUNC</th>\n",
       "      <th>negs_in_BLUE_IVAR</th>\n",
       "      <th>negs_in_BLUE_IVAR_NOSS</th>\n",
       "      <th>negs_in_BLUE_SENSFUNC</th>\n",
       "    </tr>\n",
       "    <tr>\n",
       "      <th>RUN</th>\n",
       "      <th></th>\n",
       "      <th></th>\n",
       "      <th></th>\n",
       "      <th></th>\n",
       "      <th></th>\n",
       "      <th></th>\n",
       "      <th></th>\n",
       "      <th></th>\n",
       "    </tr>\n",
       "  </thead>\n",
       "  <tbody>\n",
       "    <tr>\n",
       "      <th>3050612</th>\n",
       "      <td>0</td>\n",
       "      <td>0</td>\n",
       "      <td>0</td>\n",
       "      <td>0</td>\n",
       "      <td>0</td>\n",
       "      <td>0</td>\n",
       "      <td>0</td>\n",
       "      <td>0</td>\n",
       "    </tr>\n",
       "    <tr>\n",
       "      <th>3050614</th>\n",
       "      <td>0</td>\n",
       "      <td>0</td>\n",
       "      <td>0</td>\n",
       "      <td>0</td>\n",
       "      <td>0</td>\n",
       "      <td>0</td>\n",
       "      <td>0</td>\n",
       "      <td>0</td>\n",
       "    </tr>\n",
       "    <tr>\n",
       "      <th>3050616</th>\n",
       "      <td>0</td>\n",
       "      <td>0</td>\n",
       "      <td>0</td>\n",
       "      <td>0</td>\n",
       "      <td>0</td>\n",
       "      <td>0</td>\n",
       "      <td>0</td>\n",
       "      <td>0</td>\n",
       "    </tr>\n",
       "    <tr>\n",
       "      <th>3050637</th>\n",
       "      <td>0</td>\n",
       "      <td>0</td>\n",
       "      <td>0</td>\n",
       "      <td>0</td>\n",
       "      <td>0</td>\n",
       "      <td>0</td>\n",
       "      <td>0</td>\n",
       "      <td>0</td>\n",
       "    </tr>\n",
       "    <tr>\n",
       "      <th>3050639</th>\n",
       "      <td>0</td>\n",
       "      <td>0</td>\n",
       "      <td>0</td>\n",
       "      <td>0</td>\n",
       "      <td>0</td>\n",
       "      <td>0</td>\n",
       "      <td>0</td>\n",
       "      <td>0</td>\n",
       "    </tr>\n",
       "    <tr>\n",
       "      <th>3050641</th>\n",
       "      <td>0</td>\n",
       "      <td>0</td>\n",
       "      <td>0</td>\n",
       "      <td>0</td>\n",
       "      <td>0</td>\n",
       "      <td>0</td>\n",
       "      <td>0</td>\n",
       "      <td>0</td>\n",
       "    </tr>\n",
       "    <tr>\n",
       "      <th>3050887</th>\n",
       "      <td>0</td>\n",
       "      <td>0</td>\n",
       "      <td>0</td>\n",
       "      <td>0</td>\n",
       "      <td>0</td>\n",
       "      <td>0</td>\n",
       "      <td>0</td>\n",
       "      <td>0</td>\n",
       "    </tr>\n",
       "    <tr>\n",
       "      <th>3050889</th>\n",
       "      <td>0</td>\n",
       "      <td>0</td>\n",
       "      <td>0</td>\n",
       "      <td>0</td>\n",
       "      <td>0</td>\n",
       "      <td>0</td>\n",
       "      <td>0</td>\n",
       "      <td>0</td>\n",
       "    </tr>\n",
       "    <tr>\n",
       "      <th>3050891</th>\n",
       "      <td>0</td>\n",
       "      <td>0</td>\n",
       "      <td>0</td>\n",
       "      <td>0</td>\n",
       "      <td>0</td>\n",
       "      <td>0</td>\n",
       "      <td>0</td>\n",
       "      <td>0</td>\n",
       "    </tr>\n",
       "    <tr>\n",
       "      <th>3050925</th>\n",
       "      <td>0</td>\n",
       "      <td>0</td>\n",
       "      <td>0</td>\n",
       "      <td>0</td>\n",
       "      <td>0</td>\n",
       "      <td>0</td>\n",
       "      <td>0</td>\n",
       "      <td>0</td>\n",
       "    </tr>\n",
       "    <tr>\n",
       "      <th>3050927</th>\n",
       "      <td>0</td>\n",
       "      <td>0</td>\n",
       "      <td>0</td>\n",
       "      <td>0</td>\n",
       "      <td>0</td>\n",
       "      <td>0</td>\n",
       "      <td>0</td>\n",
       "      <td>0</td>\n",
       "    </tr>\n",
       "    <tr>\n",
       "      <th>3050929</th>\n",
       "      <td>0</td>\n",
       "      <td>0</td>\n",
       "      <td>0</td>\n",
       "      <td>0</td>\n",
       "      <td>0</td>\n",
       "      <td>0</td>\n",
       "      <td>0</td>\n",
       "      <td>0</td>\n",
       "    </tr>\n",
       "    <tr>\n",
       "      <th>3051173</th>\n",
       "      <td>0</td>\n",
       "      <td>0</td>\n",
       "      <td>0</td>\n",
       "      <td>0</td>\n",
       "      <td>0</td>\n",
       "      <td>0</td>\n",
       "      <td>0</td>\n",
       "      <td>0</td>\n",
       "    </tr>\n",
       "    <tr>\n",
       "      <th>3051175</th>\n",
       "      <td>0</td>\n",
       "      <td>0</td>\n",
       "      <td>0</td>\n",
       "      <td>0</td>\n",
       "      <td>0</td>\n",
       "      <td>0</td>\n",
       "      <td>0</td>\n",
       "      <td>0</td>\n",
       "    </tr>\n",
       "    <tr>\n",
       "      <th>3051177</th>\n",
       "      <td>0</td>\n",
       "      <td>0</td>\n",
       "      <td>0</td>\n",
       "      <td>0</td>\n",
       "      <td>0</td>\n",
       "      <td>0</td>\n",
       "      <td>0</td>\n",
       "      <td>0</td>\n",
       "    </tr>\n",
       "    <tr>\n",
       "      <th>3051211</th>\n",
       "      <td>0</td>\n",
       "      <td>0</td>\n",
       "      <td>0</td>\n",
       "      <td>0</td>\n",
       "      <td>0</td>\n",
       "      <td>0</td>\n",
       "      <td>0</td>\n",
       "      <td>0</td>\n",
       "    </tr>\n",
       "    <tr>\n",
       "      <th>3051213</th>\n",
       "      <td>0</td>\n",
       "      <td>0</td>\n",
       "      <td>0</td>\n",
       "      <td>0</td>\n",
       "      <td>0</td>\n",
       "      <td>0</td>\n",
       "      <td>0</td>\n",
       "      <td>0</td>\n",
       "    </tr>\n",
       "    <tr>\n",
       "      <th>3051215</th>\n",
       "      <td>0</td>\n",
       "      <td>0</td>\n",
       "      <td>0</td>\n",
       "      <td>0</td>\n",
       "      <td>0</td>\n",
       "      <td>0</td>\n",
       "      <td>0</td>\n",
       "      <td>0</td>\n",
       "    </tr>\n",
       "  </tbody>\n",
       "</table>\n",
       "</div>"
      ],
      "text/plain": [
       "                   failed                                           \\\n",
       "test    nans_in_BLUE_FLUX nans_in_BLUE_FLUX_NOSS nans_in_BLUE_IVAR   \n",
       "RUN                                                                  \n",
       "3050612                 0                      0                 0   \n",
       "3050614                 0                      0                 0   \n",
       "3050616                 0                      0                 0   \n",
       "3050637                 0                      0                 0   \n",
       "3050639                 0                      0                 0   \n",
       "3050641                 0                      0                 0   \n",
       "3050887                 0                      0                 0   \n",
       "3050889                 0                      0                 0   \n",
       "3050891                 0                      0                 0   \n",
       "3050925                 0                      0                 0   \n",
       "3050927                 0                      0                 0   \n",
       "3050929                 0                      0                 0   \n",
       "3051173                 0                      0                 0   \n",
       "3051175                 0                      0                 0   \n",
       "3051177                 0                      0                 0   \n",
       "3051211                 0                      0                 0   \n",
       "3051213                 0                      0                 0   \n",
       "3051215                 0                      0                 0   \n",
       "\n",
       "                                                                        \\\n",
       "test    nans_in_BLUE_IVAR_NOSS nans_in_BLUE_SENSFUNC negs_in_BLUE_IVAR   \n",
       "RUN                                                                      \n",
       "3050612                      0                     0                 0   \n",
       "3050614                      0                     0                 0   \n",
       "3050616                      0                     0                 0   \n",
       "3050637                      0                     0                 0   \n",
       "3050639                      0                     0                 0   \n",
       "3050641                      0                     0                 0   \n",
       "3050887                      0                     0                 0   \n",
       "3050889                      0                     0                 0   \n",
       "3050891                      0                     0                 0   \n",
       "3050925                      0                     0                 0   \n",
       "3050927                      0                     0                 0   \n",
       "3050929                      0                     0                 0   \n",
       "3051173                      0                     0                 0   \n",
       "3051175                      0                     0                 0   \n",
       "3051177                      0                     0                 0   \n",
       "3051211                      0                     0                 0   \n",
       "3051213                      0                     0                 0   \n",
       "3051215                      0                     0                 0   \n",
       "\n",
       "                                                      \n",
       "test    negs_in_BLUE_IVAR_NOSS negs_in_BLUE_SENSFUNC  \n",
       "RUN                                                   \n",
       "3050612                      0                     0  \n",
       "3050614                      0                     0  \n",
       "3050616                      0                     0  \n",
       "3050637                      0                     0  \n",
       "3050639                      0                     0  \n",
       "3050641                      0                     0  \n",
       "3050887                      0                     0  \n",
       "3050889                      0                     0  \n",
       "3050891                      0                     0  \n",
       "3050925                      0                     0  \n",
       "3050927                      0                     0  \n",
       "3050929                      0                     0  \n",
       "3051173                      0                     0  \n",
       "3051175                      0                     0  \n",
       "3051177                      0                     0  \n",
       "3051211                      0                     0  \n",
       "3051213                      0                     0  \n",
       "3051215                      0                     0  "
      ]
     },
     "execution_count": null,
     "metadata": {},
     "output_type": "execute_result"
    }
   ],
   "source": [
    "blue_tests.full_summary(by=\"RUN\")"
   ]
  },
  {
   "cell_type": "markdown",
   "id": "77b16a23-68d1-4ea7-8c08-e66b0641e09c",
   "metadata": {},
   "source": [
    "## Details"
   ]
  },
  {
   "cell_type": "code",
   "execution_count": null,
   "id": "d9db5899-18fa-40ca-812d-61b8f9b07f01",
   "metadata": {},
   "outputs": [
    {
     "data": {
      "image/png": "[encoded data removed]",
      "text/plain": [
       "<Figure size 1500x400 with 2 Axes>"
      ]
     },
     "metadata": {},
     "output_type": "display_data"
    },
    {
     "data": {
      "image/png": "[encoded data removed]",
      "text/plain": [
       "<Figure size 1500x400 with 2 Axes>"
      ]
     },
     "metadata": {},
     "output_type": "display_data"
    }
   ],
   "source": [
    "plot_qty_and_nans(red_tests.data, 3050611, \"RED_FLUX\")\n",
    "plot_qty_and_nans(blue_tests.data, 3050612, \"BLUE_FLUX\")"
   ]
  }
 ],
 "metadata": {
  "kernelspec": {
   "display_name": "python3",
   "language": "python",
   "name": "python3"
  }
 },
 "nbformat": 4,
 "nbformat_minor": 5
}
