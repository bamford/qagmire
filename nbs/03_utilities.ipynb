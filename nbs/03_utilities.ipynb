{
 "cells": [
  {
   "cell_type": "markdown",
   "id": "733567eb-f2aa-4eda-a539-5182caf936ef",
   "metadata": {},
   "source": [
    "# utilities\n",
    "\n",
    "> Utilitiy functions for dealing with WEAVE data"
   ]
  },
  {
   "cell_type": "code",
   "execution_count": null,
   "id": "a1cab331-fd04-46be-8d14-7251fd1f3a3b",
   "metadata": {},
   "outputs": [],
   "source": [
    "# |default_exp utilities"
   ]
  },
  {
   "cell_type": "code",
   "execution_count": null,
   "id": "f6c6d375-dcf7-4472-b5c6-b36d10e1a22d",
   "metadata": {},
   "outputs": [],
   "source": [
    "# |export\n",
    "\n",
    "import numpy as np\n",
    "import xarray as xr\n",
    "from astropy.time import Time\n",
    "from scipy import stats"
   ]
  },
  {
   "cell_type": "markdown",
   "id": "944cfd8b-ad89-4426-a6a0-971a149c7028",
   "metadata": {},
   "source": [
    "## Parsing codes in the FITS headers"
   ]
  },
  {
   "cell_type": "markdown",
   "id": "f1bff341-78a1-4dda-a617-3873081bb810",
   "metadata": {},
   "source": [
    "The header entry \"OBSTEMP\" encodes the requested observational constraints for the OB: the seeing, transparency, elevation, lunar angle and sky brightness. The OBSTEMP code consists of a letter for each constraint. This converts the codes to numerical values and adds airmass."
   ]
  },
  {
   "cell_type": "code",
   "execution_count": null,
   "id": "15620aed-4243-4943-8d6e-36a2b3ca6814",
   "metadata": {},
   "outputs": [],
   "source": [
    "# |export\n",
    "\n",
    "\n",
    "def parse_obstemp(\n",
    "    codes: xr.DataArray,  # a DataArray of OBSTEMP codes\n",
    ") -> dict:  # the numerical value for each observing constraint\n",
    "    \"\"\"Convert an OBSTEMP `code` to a dictionary of constraint values.\"\"\"\n",
    "    lookup = dict(\n",
    "        seeing={\n",
    "            \"A\": 0.7,\n",
    "            \"B\": 0.8,\n",
    "            \"C\": 0.9,\n",
    "            \"D\": 1.0,\n",
    "            \"E\": 1.1,\n",
    "            \"F\": 1.2,\n",
    "            \"G\": 1.3,\n",
    "            \"H\": 1.4,\n",
    "            \"I\": 1.5,\n",
    "            \"J\": 1.6,\n",
    "            \"K\": 1.7,\n",
    "            \"L\": 1.8,\n",
    "            \"M\": 1.9,\n",
    "            \"N\": 2.0,\n",
    "            \"O\": 2.1,\n",
    "            \"P\": 2.2,\n",
    "            \"Q\": 2.3,\n",
    "            \"R\": 2.4,\n",
    "            \"S\": 2.5,\n",
    "            \"T\": 2.6,\n",
    "            \"U\": 2.7,\n",
    "            \"V\": 2.8,\n",
    "            \"W\": 2.9,\n",
    "            \"X\": 3.0,\n",
    "        },\n",
    "        transparency={\"A\": 0.8, \"B\": 0.7, \"C\": 0.6, \"D\": 0.5, \"E\": 0.4},\n",
    "        elevation={\n",
    "            \"A\": 50.28,\n",
    "            \"B\": 45.58,\n",
    "            \"C\": 41.81,\n",
    "            \"D\": 35.68,\n",
    "            \"E\": 33.75,\n",
    "            \"F\": 25.00,\n",
    "        },\n",
    "        lunar_angle={\"A\": 90, \"B\": 70, \"C\": 50, \"D\": 30, \"E\": 0},\n",
    "        sky_brightness={\n",
    "            \"A\": 21.7,\n",
    "            \"B\": 21.5,\n",
    "            \"C\": 21.0,\n",
    "            \"D\": 20.5,\n",
    "            \"E\": 19.6,\n",
    "            \"F\": 18.5,\n",
    "            \"G\": 17.7,\n",
    "        },\n",
    "    )\n",
    "\n",
    "    cols = dict()\n",
    "    for i, k in enumerate(lookup):\n",
    "        v = [lookup[k][c[i]] for c in codes.to_numpy()]\n",
    "        cols[k] = xr.Variable(codes.dims, v)\n",
    "    cols[\"airmass\"] = np.round(1 / np.cos(np.radians(90 - cols[\"elevation\"])), 1)\n",
    "    return xr.Dataset(cols, codes.coords)"
   ]
  },
  {
   "cell_type": "markdown",
   "id": "37ef4939-db7c-4de6-84ca-1e1a92be45ef",
   "metadata": {},
   "source": [
    "## Parsing line names"
   ]
  },
  {
   "cell_type": "markdown",
   "id": "c62fea33-eeda-4934-90af-ee3e2314e78b",
   "metadata": {},
   "source": [
    "Line names in the galaxy table are a combination of the species and restframe wavelength, e.g. `[OIII]_5006.77`. This splits them and returns the species and wavelength separately."
   ]
  },
  {
   "cell_type": "code",
   "execution_count": null,
   "id": "9b3fc9cd-b32f-4a3d-ba13-25f9983c8a64",
   "metadata": {},
   "outputs": [],
   "source": [
    "# |export\n",
    "\n",
    "\n",
    "def parse_line_names(\n",
    "    lines: xr.DataArray,  # a DataArray of line names, e.g. [OIII]_5006.77\n",
    ") -> tuple[xr.DataArray, xr.DataArray]:  # the species and wavelength of each line\n",
    "    \"\"\"Split the line names into species and restframe wavelength.\"\"\"\n",
    "    lines = lines.astype(str)\n",
    "    line_species, line_rest_wl = lines.str.split(dim=\"\", sep=\"_\").T\n",
    "    line_rest_wl = line_rest_wl.astype(float)\n",
    "    return line_species, line_rest_wl"
   ]
  },
  {
   "cell_type": "markdown",
   "id": "a359dd2e-9309-492c-88bc-b2dde542c52f",
   "metadata": {},
   "source": [
    "## Statistics"
   ]
  },
  {
   "cell_type": "code",
   "execution_count": null,
   "id": "a666875a-8bef-495d-aead-47e5a50f5b0b",
   "metadata": {},
   "outputs": [],
   "source": [
    "# |export\n",
    "\n",
    "\n",
    "def ks_norm_prob(\n",
    "    x: xr.DataArray,  # a 2D array of values to test\n",
    "    dim=\"SPEC\",  # the dimension of `x` to retain\n",
    "    cdf=stats.norm.cdf,  # the cdf to compare against\n",
    ") -> xr.DataArray:\n",
    "    \"\"\"Calculate the KS probability that `x` are drawn from a standard Normal distribution.\n",
    "\n",
    "    The implementation is based on `scipy.stats.ks_1samp` and adapted to xarray for speed.\n",
    "\n",
    "    The input DataArray must be 2D, with one dimension to be kept (specified by `dim`) and\n",
    "    the other for which the distribution of values will be tested. A multi-dimensional\n",
    "    DataArray may be converted to 2D using `DataArray.stack`.\n",
    "    \"\"\"\n",
    "    exdim = [d for d in x.dims if d != dim][0]\n",
    "    n_pix, n_data = x.shape\n",
    "    n_valid = x.count(dim=exdim)\n",
    "    x = xr.apply_ufunc(\n",
    "        np.sort,\n",
    "        x.reset_index(exdim, drop=True),\n",
    "        input_core_dims=[[exdim]],\n",
    "        output_core_dims=[[exdim]],\n",
    "        dask=\"parallelized\",\n",
    "    )\n",
    "    cdfvals = xr.apply_ufunc(cdf, x, dask=\"parallelized\")\n",
    "    with np.errstate(divide=\"ignore\", invalid=\"ignore\"):\n",
    "        dplus = np.arange(1, n_pix + 1) / n_valid.data[:, None] - cdfvals\n",
    "        dminus = cdfvals - np.arange(0, n_pix) / n_valid.data[:, None]\n",
    "    Dplus = dplus.max(axis=-1)\n",
    "    Dminus = dminus.max(axis=-1)\n",
    "    D = np.maximum(Dplus, Dminus)\n",
    "    with np.errstate(divide=\"ignore\", invalid=\"ignore\"):\n",
    "        prob = xr.apply_ufunc(stats.kstwo.sf, D, n_valid, dask=\"parallelized\")\n",
    "    prob = prob.clip(0, 1)\n",
    "    return prob"
   ]
  },
  {
   "cell_type": "markdown",
   "id": "081b0d1b-2186-46ee-84f0-26deac33aed3",
   "metadata": {},
   "source": [
    "## Time"
   ]
  },
  {
   "cell_type": "code",
   "execution_count": null,
   "id": "fbc49800-3e84-47e2-8f30-a24ee24cb923",
   "metadata": {},
   "outputs": [],
   "source": [
    "# |export\n",
    "\n",
    "\n",
    "def mjd_to_night(\n",
    "    mjd: float | np.ndarray,  # a Modified Julian Date\n",
    ") -> float | np.ndarray:  # the night in YYYYMMDD format\n",
    "    \"\"\"Return the date (YYYYMMDD) at the start of the night containing `mjd`.\"\"\"\n",
    "    t = Time(mjd - 0.5, format=\"mjd\")\n",
    "    return t.to_value(\"iso\", subfmt=\"date\").replace(\"-\", \"\")"
   ]
  },
  {
   "cell_type": "code",
   "execution_count": null,
   "id": "85cf8cd0-4934-4a65-8600-7787dd73536e",
   "metadata": {},
   "outputs": [],
   "source": [
    "assert mjd_to_night(57639.8653) == \"20160908\""
   ]
  },
  {
   "cell_type": "code",
   "execution_count": null,
   "id": "cddb22af-33e3-4c7c-aee0-6b8df32116b3",
   "metadata": {},
   "outputs": [],
   "source": [
    "assert mjd_to_night(57639.8653) == mjd_to_night(57640.1234)"
   ]
  },
  {
   "cell_type": "code",
   "execution_count": null,
   "id": "9b0ad5f2-9037-401b-a5e1-9e95b00fe05a",
   "metadata": {},
   "outputs": [],
   "source": [
    "# |hide\n",
    "import nbdev\n",
    "\n",
    "nbdev.nbdev_export()"
   ]
  }
 ],
 "metadata": {
  "kernelspec": {
   "display_name": "python3",
   "language": "python",
   "name": "python3"
  }
 },
 "nbformat": 4,
 "nbformat_minor": 5
}
