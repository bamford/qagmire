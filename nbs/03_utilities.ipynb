{
 "cells": [
  {
   "cell_type": "markdown",
   "id": "733567eb-f2aa-4eda-a539-5182caf936ef",
   "metadata": {},
   "source": [
    "# utilities\n",
    "\n",
    "> Utilitiy functions for dealing with WEAVE data"
   ]
  },
  {
   "cell_type": "code",
   "execution_count": null,
   "id": "a1cab331-fd04-46be-8d14-7251fd1f3a3b",
   "metadata": {},
   "outputs": [],
   "source": [
    "# |default_exp utilities"
   ]
  },
  {
   "cell_type": "code",
   "execution_count": null,
   "id": "f6c6d375-dcf7-4472-b5c6-b36d10e1a22d",
   "metadata": {},
   "outputs": [],
   "source": [
    "# |export\n",
    "\n",
    "import numpy as np\n",
    "import xarray as xr"
   ]
  },
  {
   "cell_type": "markdown",
   "id": "944cfd8b-ad89-4426-a6a0-971a149c7028",
   "metadata": {},
   "source": [
    "## Parsing codes in the FITS headers"
   ]
  },
  {
   "cell_type": "markdown",
   "id": "f1bff341-78a1-4dda-a617-3873081bb810",
   "metadata": {},
   "source": [
    "The header entry \"OBSTEMP\" encodes the requested observational constraints for the OB: the seeing, transparency, elevation, lunar angle and sky brightness. The OBSTEMP code consists of a letter for each constraint. This converts the codes to numerical values and adds airmass."
   ]
  },
  {
   "cell_type": "code",
   "execution_count": null,
   "id": "15620aed-4243-4943-8d6e-36a2b3ca6814",
   "metadata": {},
   "outputs": [],
   "source": [
    "# |export\n",
    "\n",
    "\n",
    "def parse_obstemp(\n",
    "    codes: xr.DataArray,  # a DataArray of OBSTEMP codes\n",
    ") -> dict:  # the numerical value for each observing constraint\n",
    "    \"\"\"Convert an OBSTEMP `code` to a dictionary of constraint values.\"\"\"\n",
    "    lookup = dict(\n",
    "        seeing={\n",
    "            \"A\": 0.7,\n",
    "            \"B\": 0.8,\n",
    "            \"C\": 0.9,\n",
    "            \"D\": 1.0,\n",
    "            \"E\": 1.1,\n",
    "            \"F\": 1.2,\n",
    "            \"G\": 1.3,\n",
    "            \"H\": 1.4,\n",
    "            \"I\": 1.5,\n",
    "            \"J\": 1.6,\n",
    "            \"K\": 1.7,\n",
    "            \"L\": 1.8,\n",
    "            \"M\": 1.9,\n",
    "            \"N\": 2.0,\n",
    "            \"O\": 2.1,\n",
    "            \"P\": 2.2,\n",
    "            \"Q\": 2.3,\n",
    "            \"R\": 2.4,\n",
    "            \"S\": 2.5,\n",
    "            \"T\": 2.6,\n",
    "            \"U\": 2.7,\n",
    "            \"V\": 2.8,\n",
    "            \"W\": 2.9,\n",
    "            \"X\": 3.0,\n",
    "        },\n",
    "        transparency={\"A\": 0.8, \"B\": 0.7, \"C\": 0.6, \"D\": 0.5, \"E\": 0.4},\n",
    "        elevation={\n",
    "            \"A\": 50.28,\n",
    "            \"B\": 45.58,\n",
    "            \"C\": 41.81,\n",
    "            \"D\": 35.68,\n",
    "            \"E\": 33.75,\n",
    "            \"F\": 25.00,\n",
    "        },\n",
    "        lunar_angle={\"A\": 90, \"B\": 70, \"C\": 50, \"D\": 30, \"E\": 0},\n",
    "        sky_brightness={\n",
    "            \"A\": 21.7,\n",
    "            \"B\": 21.5,\n",
    "            \"C\": 21.0,\n",
    "            \"D\": 20.5,\n",
    "            \"E\": 19.6,\n",
    "            \"F\": 18.5,\n",
    "            \"G\": 17.7,\n",
    "        },\n",
    "    )\n",
    "\n",
    "    cols = dict()\n",
    "    for i, k in enumerate(lookup):\n",
    "        v = [lookup[k][c[i]] for c in codes.to_numpy()]\n",
    "        cols[k] = xr.Variable(codes.dims, v)\n",
    "    cols[\"airmass\"] = np.round(1 / np.cos(np.radians(90 - cols[\"elevation\"])), 1)\n",
    "    return xr.Dataset(cols, codes.coords)"
   ]
  },
  {
   "cell_type": "markdown",
   "id": "37ef4939-db7c-4de6-84ca-1e1a92be45ef",
   "metadata": {},
   "source": [
    "## Parsing line names"
   ]
  },
  {
   "cell_type": "markdown",
   "id": "c62fea33-eeda-4934-90af-ee3e2314e78b",
   "metadata": {},
   "source": [
    "Line names in the galaxy table are a combination of the species and restframe wavelength, e.g. `[OIII]_5006.77`. This splits them and returns the species and wavelength separately."
   ]
  },
  {
   "cell_type": "code",
   "execution_count": null,
   "id": "9b3fc9cd-b32f-4a3d-ba13-25f9983c8a64",
   "metadata": {},
   "outputs": [],
   "source": [
    "# |export\n",
    "\n",
    "\n",
    "def parse_line_names(\n",
    "    lines: xr.DataArray,  # a DataArray of line names, e.g. [OIII]_5006.77\n",
    ") -> tuple[xr.DataArray, xr.DataArray]:  # the species and wavelength of each line\n",
    "    \"\"\"Split the line names into species and restframe wavelength.\"\"\"\n",
    "    lines = lines.astype(str)\n",
    "    line_species, line_rest_wl = lines.str.split(dim=\"\", sep=\"_\").T\n",
    "    line_rest_wl = line_rest_wl.astype(float)\n",
    "    return line_species, line_rest_wl"
   ]
  },
  {
   "cell_type": "code",
   "execution_count": null,
   "id": "9b0ad5f2-9037-401b-a5e1-9e95b00fe05a",
   "metadata": {},
   "outputs": [],
   "source": [
    "# |hide\n",
    "import nbdev\n",
    "\n",
    "nbdev.nbdev_export()"
   ]
  }
 ],
 "metadata": {
  "kernelspec": {
   "display_name": "python3",
   "language": "python",
   "name": "python3"
  }
 },
 "nbformat": 4,
 "nbformat_minor": 5
}
