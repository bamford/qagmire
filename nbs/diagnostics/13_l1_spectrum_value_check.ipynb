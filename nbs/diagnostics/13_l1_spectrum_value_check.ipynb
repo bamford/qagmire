{
 "cells": [
  {
   "cell_type": "markdown",
   "id": "dc0493e6",
   "metadata": {},
   "source": [
    "# L1 spectrum value check\n",
    "\n",
    "> Check that all L1 spectra have valid flux/ivar/sensfunc arrays."
   ]
  },
  {
   "cell_type": "code",
   "execution_count": null,
   "id": "23332175-f8be-4b76-927d-438042c90a2d",
   "metadata": {},
   "outputs": [],
   "source": [
    "# |default_exp diagnostics.l1_spectrum_value_check"
   ]
  },
  {
   "cell_type": "code",
   "execution_count": null,
   "id": "19db9eab",
   "metadata": {},
   "outputs": [],
   "source": [
    "# |export\n",
    "\n",
    "import matplotlib.pyplot as plt\n",
    "import numpy as np\n",
    "from dask.distributed import Client\n",
    "\n",
    "from qagmire.data import (\n",
    "    get_lr_l1_single_files,\n",
    "    read_l1_data,\n",
    ")\n",
    "from qagmire.quality_assurance import Diagnostics"
   ]
  },
  {
   "cell_type": "markdown",
   "id": "727cd5c3-93ed-47b2-bc6f-5407ace40e3a",
   "metadata": {},
   "source": [
    "To write checks of the data, we create a subclass of `Diagnostics` and implement the `tests` method."
   ]
  },
  {
   "cell_type": "code",
   "execution_count": null,
   "id": "14c43461-0a77-4ca8-8beb-571511201134",
   "metadata": {},
   "outputs": [],
   "source": [
    "# |export\n",
    "\n",
    "\n",
    "class L1SpectrumValueCheck(Diagnostics):\n",
    "    \"\"\"L1 spectrum value check.\n",
    "\n",
    "    A reproduction of the class with the same name in the weaveio\n",
    "    [value_checks](https://github.com/bamford/QAG/blob/master/diagnostics/value_checks.py).\n",
    "\n",
    "    This tests for the following cases:\n",
    "\n",
    "    * Are there non-finite pixel values?\n",
    "\n",
    "    for the red and blue 'flux', 'flux_noss', 'ivar', 'ivar_noss' and 'sensfunc' arrays, as well as:\n",
    "\n",
    "    * Are there negative pixel values?\n",
    "\n",
    "    for the red and blue 'ivar', 'ivar_noss' and 'sensfunc' arrays.\n",
    "    \"\"\"\n",
    "\n",
    "    def __init__(\n",
    "        self,\n",
    "        n_allowed_bad: int = 0,  # the number of allowed bad pixels per spectrum\n",
    "        camera=None,  # limit to a specific camera: RED or BLUE\n",
    "    ):\n",
    "        self.n_allowed_bad = n_allowed_bad\n",
    "        self.camera = camera.upper()\n",
    "        super().__init__()\n",
    "\n",
    "    def tests(self, **kwargs):\n",
    "        files = get_lr_l1_single_files(**kwargs)\n",
    "        data = read_l1_data(files)\n",
    "\n",
    "        if self.camera is not None:\n",
    "            camera_match = data[\"CAMERA\"] == self.camera\n",
    "            data = data.sel(filename=camera_match)\n",
    "            cameras = [self.camera]\n",
    "        else:\n",
    "            cameras = [\"RED\", \"BLUE\"]\n",
    "\n",
    "        # perform the tests by RUN, rather than filename\n",
    "        data = data.swap_dims(filename=\"RUN\")\n",
    "\n",
    "        neg = data < 0\n",
    "        nan = ~np.isfinite(data)\n",
    "\n",
    "        any_neg = neg.any(dim=[\"LAMBDA_R\", \"LAMBDA_B\"])\n",
    "        any_nan = nan.any(dim=[\"LAMBDA_R\", \"LAMBDA_B\"])\n",
    "\n",
    "        tests = []\n",
    "        for camera in cameras:\n",
    "            camera_match = data[\"CAMERA\"] == camera\n",
    "            for ext in [\"FLUX\", \"FLUX_NOSS\", \"IVAR\", \"IVAR_NOSS\", \"SENSFUNC\"]:\n",
    "                name = f\"{camera}_{ext}\"\n",
    "                tests.append(\n",
    "                    {\n",
    "                        \"name\": f\"nans_in_{name}\",\n",
    "                        \"description\": f\"Are there non-finite values in {name}?\",\n",
    "                        \"test\": any_nan[name] & camera_match,\n",
    "                    }\n",
    "                )\n",
    "            for ext in [\"IVAR\", \"IVAR_NOSS\", \"SENSFUNC\"]:\n",
    "                name = f\"{camera}_{ext}\"\n",
    "                tests.append(\n",
    "                    {\n",
    "                        \"name\": f\"negs_in_{name}\",\n",
    "                        \"description\": f\"Are there negative values in {name}?\",\n",
    "                        \"test\": any_neg[name] & camera_match,\n",
    "                    }\n",
    "                )\n",
    "        return tests"
   ]
  },
  {
   "cell_type": "markdown",
   "id": "2a869a09-e290-476e-9dbc-fdbca7b11df3",
   "metadata": {},
   "source": [
    "## Tests"
   ]
  },
  {
   "cell_type": "markdown",
   "id": "7b930acc-a370-4e59-ad35-a069483da7c1",
   "metadata": {},
   "source": [
    "We use multiple `dask` workers to speed up this test."
   ]
  },
  {
   "cell_type": "code",
   "execution_count": null,
   "id": "54b86683-d4f0-4fc4-85e2-2548c3d647f7",
   "metadata": {},
   "outputs": [],
   "source": [
    "client = Client(n_workers=8, threads_per_worker=1, memory_limit=\"2GiB\")"
   ]
  },
  {
   "cell_type": "markdown",
   "id": "a4a63c90-c121-4f4b-b7d2-38e44c12ec5f",
   "metadata": {},
   "source": [
    "### Red camera"
   ]
  },
  {
   "cell_type": "code",
   "execution_count": null,
   "id": "f63a1c6c-5716-40ee-90c0-8e24eb4a1816",
   "metadata": {},
   "outputs": [],
   "source": [
    "tests = L1SpectrumValueCheck(camera=\"RED\")\n",
    "tests.run(date=\"201*\")"
   ]
  },
  {
   "cell_type": "code",
   "execution_count": null,
   "id": "c30d0f7d-2bb6-4bd6-9b2b-52e0c1d16bfd",
   "metadata": {},
   "outputs": [],
   "source": [
    "tests.summary(by=\"RUN\")"
   ]
  },
  {
   "cell_type": "code",
   "execution_count": null,
   "id": "0fddfe97-0cdf-4095-a97d-d8e93d636836",
   "metadata": {},
   "outputs": [],
   "source": [
    "tests.summary(by=\"NSPEC\")"
   ]
  },
  {
   "cell_type": "markdown",
   "id": "d519845a-906b-4c7d-938d-5d9e48f82587",
   "metadata": {},
   "source": [
    "### Blue camera"
   ]
  },
  {
   "cell_type": "code",
   "execution_count": null,
   "id": "69d6e0d1-0ec6-4fd5-b351-23ffdfc48ee7",
   "metadata": {},
   "outputs": [],
   "source": [
    "tests = L1SpectrumValueCheck(camera=\"BLUE\")\n",
    "tests.run(date=\"2017*\")"
   ]
  },
  {
   "cell_type": "code",
   "execution_count": null,
   "id": "c66b1cb0-427c-4b85-a944-4e4b441c3ae2",
   "metadata": {},
   "outputs": [],
   "source": [
    "tests.summary(by=\"RUN\")"
   ]
  },
  {
   "cell_type": "code",
   "execution_count": null,
   "id": "2e3f8f24-7f64-4f3b-b50b-7bf20ddc2638",
   "metadata": {},
   "outputs": [],
   "source": [
    "tests.summary(by=\"NSPEC\")"
   ]
  },
  {
   "cell_type": "markdown",
   "id": "77b16a23-68d1-4ea7-8c08-e66b0641e09c",
   "metadata": {},
   "source": [
    "## Verification"
   ]
  },
  {
   "cell_type": "code",
   "execution_count": null,
   "id": "d2754ef2-5a4a-4dc4-a9cd-fb01d2effc64",
   "metadata": {},
   "outputs": [],
   "source": [
    "files = get_lr_l1_single_files(date=\"2017*\")\n",
    "data = read_l1_data(files)\n",
    "data = data.swap_dims(filename=\"RUN\")"
   ]
  },
  {
   "cell_type": "code",
   "execution_count": null,
   "id": "14284756-a188-4635-b7a6-46923d0ece14",
   "metadata": {},
   "outputs": [],
   "source": [
    "def plot(run, ext):\n",
    "    qty = data.sel(RUN=run)[ext]\n",
    "    fig, ax = plt.subplots(3, 1, figsize=(15, 5), sharex=True, sharey=True)\n",
    "    ax[0].imshow(qty, vmin=0, vmax=100, interpolation=\"none\")\n",
    "    ax[0].set_title(ext)\n",
    "    ax[1].imshow(~np.isfinite(qty), interpolation=\"none\")\n",
    "    ax[1].set_title(\"NaNs\")\n",
    "    ax[2].imshow(qty < 0, interpolation=\"none\")\n",
    "    ax[2].set_title(\"Negs\")\n",
    "    fig.suptitle(f\"RUN {run}\")"
   ]
  },
  {
   "cell_type": "code",
   "execution_count": null,
   "id": "d9db5899-18fa-40ca-812d-61b8f9b07f01",
   "metadata": {},
   "outputs": [],
   "source": [
    "plot(1004097, \"RED_FLUX\")"
   ]
  },
  {
   "cell_type": "code",
   "execution_count": null,
   "id": "23886b9f-3436-4932-97e8-57e19ab8cd8d",
   "metadata": {},
   "outputs": [],
   "source": [
    "plot(1004098, \"BLUE_FLUX\")"
   ]
  },
  {
   "cell_type": "code",
   "execution_count": null,
   "id": "51fc7796-aa4b-46aa-a260-9418ae2c6537",
   "metadata": {},
   "outputs": [],
   "source": [
    "plot(1003329, \"RED_FLUX\")"
   ]
  },
  {
   "cell_type": "code",
   "execution_count": null,
   "id": "bac1ae25-361c-48ab-9cab-2b1b10cdcc1d",
   "metadata": {},
   "outputs": [],
   "source": [
    "plot(1003330, \"BLUE_FLUX\")"
   ]
  },
  {
   "cell_type": "code",
   "execution_count": null,
   "id": "fca8bb45-e1aa-4315-9aa1-14e36190cfa6",
   "metadata": {},
   "outputs": [],
   "source": [
    "# |hide\n",
    "import nbdev\n",
    "\n",
    "nbdev.nbdev_export()"
   ]
  }
 ],
 "metadata": {
  "kernelspec": {
   "display_name": "python3",
   "language": "python",
   "name": "python3"
  }
 },
 "nbformat": 4,
 "nbformat_minor": 5
}
