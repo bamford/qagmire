{
 "cells": [
  {
   "cell_type": "markdown",
   "id": "dc0493e6",
   "metadata": {},
   "source": [
    "# Measured sky check\n",
    "\n",
    "> Check that the L1 spectra have a measured sky brightness fainter than the observational requirement."
   ]
  },
  {
   "cell_type": "code",
   "execution_count": null,
   "id": "23332175-f8be-4b76-927d-438042c90a2d",
   "metadata": {},
   "outputs": [],
   "source": [
    "# |default_exp diagnostics.measured_sky_check"
   ]
  },
  {
   "cell_type": "code",
   "execution_count": null,
   "id": "fba935ba-82a5-468c-b017-d8e3c8bbef60",
   "metadata": {},
   "outputs": [
    {
     "name": "stdout",
     "output_type": "stream",
     "text": [
      "env: PYTHONWARNINGS=ignore\n"
     ]
    }
   ],
   "source": [
    "# |hide\n",
    "\n",
    "# This prevents warnings from appearing in cell outputs, since it has proved difficult\n",
    "# to suppress warnings arising from dask workers.\n",
    "%env PYTHONWARNINGS=ignore"
   ]
  },
  {
   "cell_type": "code",
   "execution_count": null,
   "id": "19db9eab",
   "metadata": {},
   "outputs": [],
   "source": [
    "# |export\n",
    "\n",
    "import numpy as np\n",
    "import xarray as xr\n",
    "\n",
    "from qagmire.data import (\n",
    "    get_lr_l1_stack_files,\n",
    "    read_fibre_table_nspec,\n",
    "    read_l1_data,\n",
    "    read_primary_header,\n",
    ")\n",
    "from qagmire.quality_assurance import Diagnostics\n",
    "from qagmire.utilities import get_mags_from_spectra, parse_obstemp"
   ]
  },
  {
   "cell_type": "markdown",
   "id": "727cd5c3-93ed-47b2-bc6f-5407ace40e3a",
   "metadata": {},
   "source": [
    "To write checks of the data, we create a subclass of `Diagnostics` and implement the `tests` method."
   ]
  },
  {
   "cell_type": "code",
   "execution_count": null,
   "id": "14c43461-0a77-4ca8-8beb-571511201134",
   "metadata": {},
   "outputs": [],
   "source": [
    "# |export\n",
    "\n",
    "\n",
    "class MeasuredSkyCheck(Diagnostics):\n",
    "    \"\"\"Measured sky check.\n",
    "\n",
    "    A reproduction of the SkyTrueCheck class in the weaveio\n",
    "    [sky_true_limit](https://github.com/bamford/QAG/blob/master/diagnostics/sky_true_limit.py).\n",
    "\n",
    "    This tests for the following cases:\n",
    "\n",
    "    * Does the measured sky brightness in the raw spectra satisfy the observational requirement?\n",
    "    * Does the measured sky brightness vary substantially between the sky fibres in an exposure?\n",
    "    \"\"\"\n",
    "\n",
    "    def __init__(\n",
    "        self,\n",
    "        variation_limit: float = 0.2,  # the maximum permissible sky-brightness variation in an exposure\n",
    "        **kwargs,  # additional keyword arguments are passed to the `Diagnostics` constructor\n",
    "    ):\n",
    "        self.ap_area = np.pi * (0.65 * 0.65)\n",
    "        self.variation_limit = variation_limit\n",
    "        super().__init__(**kwargs)\n",
    "\n",
    "    def tests(self, **kwargs):\n",
    "        files = get_lr_l1_stack_files(**kwargs)\n",
    "        data = read_l1_data(files)\n",
    "        # merge in info from fibre_table\n",
    "        fibre_table = read_fibre_table_nspec(files)\n",
    "        data = xr.merge((data, fibre_table))\n",
    "        data = data.where(data[\"TARGUSE\"] == b\"S\")\n",
    "        self.fibre_table = fibre_table\n",
    "        # merge in observational requirements\n",
    "        hdr = read_primary_header(files)\n",
    "        obs = parse_obstemp(hdr[\"OBSTEMP\"])\n",
    "        data = xr.merge((data, obs))\n",
    "        # limit the dataset to the blue camera\n",
    "        data = data.sel(filename=(data[\"CAMERA\"] == \"BLUE\"), drop=True)\n",
    "        data = data.drop_dims(\"LAMBDA_R\")\n",
    "        # perform the tests by OBID, rather than filename\n",
    "        data = data.swap_dims(filename=\"OBID\")\n",
    "\n",
    "        data[\"flam\"] = data[\"BLUE_FLUX_NOSS\"] * data[\"BLUE_SENSFUNC\"] / self.ap_area\n",
    "        data[\"mag_obs\"] = get_mags_from_spectra(\n",
    "            data[\"LAMBDA_B\"], data[\"flam\"], band=\"GROUND_JOHNSON_V\"\n",
    "        )\n",
    "        self.data = data\n",
    "\n",
    "        self.stats = xr.Dataset(\n",
    "            {\n",
    "                \"median_sky\": data[\"mag_obs\"].median(\"NSPEC\"),\n",
    "                \"sky_limit\": data[\"sky_brightness\"],\n",
    "                \"sigma_sky\": data[\"mag_obs\"].std(\"NSPEC\"),\n",
    "            }\n",
    "        )\n",
    "\n",
    "        tests = [\n",
    "            {\n",
    "                \"name\": \"sky_too_bright\",\n",
    "                \"description\": \"Does the measured sky brightness in the raw spectra \"\n",
    "                \"satisfy the observational requirement?\",\n",
    "                \"test\": self.stats[\"median_sky\"] < self.stats[\"sky_limit\"],\n",
    "            },\n",
    "            {\n",
    "                \"name\": \"sky_too_variable\",\n",
    "                \"description\": \"Does the measured sky brightness vary substantially \"\n",
    "                f\"(> {self.variation_limit} mag) between the sky fibres for each OB?\",\n",
    "                \"test\": self.stats[\"sigma_sky\"] > self.variation_limit,\n",
    "            },\n",
    "        ]\n",
    "        return tests"
   ]
  },
  {
   "cell_type": "markdown",
   "id": "2a869a09-e290-476e-9dbc-fdbca7b11df3",
   "metadata": {},
   "source": [
    "## Demonstration tests"
   ]
  },
  {
   "cell_type": "code",
   "execution_count": null,
   "id": "5c0c645f-7014-4c4e-b86e-2957eea77d79",
   "metadata": {},
   "outputs": [
    {
     "name": "stdout",
     "output_type": "stream",
     "text": [
      "\r",
      "Locating and converting where necessary:   0%|                                                                                      | 0/34 [00:00<?, ?it/s]"
     ]
    },
    {
     "name": "stdout",
     "output_type": "stream",
     "text": [
      "\r",
      "Locating and converting where necessary: 100%|███████████████████████████████████████████████████████████████████████████| 34/34 [00:00<00:00, 2960.42it/s]"
     ]
    },
    {
     "name": "stdout",
     "output_type": "stream",
     "text": [
      "\n",
      "Reading netCDF files... "
     ]
    },
    {
     "name": "stdout",
     "output_type": "stream",
     "text": [
      "took 1.85 s. Size is 15525.568 Mb\n"
     ]
    },
    {
     "name": "stdout",
     "output_type": "stream",
     "text": [
      "\r",
      "Reading files:   0%|                                                                                                                | 0/34 [00:00<?, ?it/s]"
     ]
    },
    {
     "name": "stdout",
     "output_type": "stream",
     "text": [
      "\r",
      "Reading files:   3%|███                                                                                                     | 1/34 [00:00<00:05,  6.01it/s]"
     ]
    },
    {
     "name": "stdout",
     "output_type": "stream",
     "text": [
      "\r",
      "Reading files:  29%|██████████████████████████████▎                                                                        | 10/34 [00:00<00:00, 44.20it/s]"
     ]
    },
    {
     "name": "stdout",
     "output_type": "stream",
     "text": [
      "\r",
      "Reading files:  56%|█████████████████████████████████████████████████████████▌                                             | 19/34 [00:00<00:00, 60.01it/s]"
     ]
    },
    {
     "name": "stdout",
     "output_type": "stream",
     "text": [
      "\r",
      "Reading files:  79%|█████████████████████████████████████████████████████████████████████████████████▊                     | 27/34 [00:00<00:00, 66.82it/s]"
     ]
    },
    {
     "name": "stdout",
     "output_type": "stream",
     "text": [
      "\r",
      "Reading files: 100%|███████████████████████████████████████████████████████████████████████████████████████████████████████| 34/34 [00:00<00:00, 57.60it/s]"
     ]
    },
    {
     "name": "stdout",
     "output_type": "stream",
     "text": [
      "\n",
      "Creating Dataset... "
     ]
    },
    {
     "name": "stdout",
     "output_type": "stream",
     "text": [
      "took 0.28 s. Size is 10.214 Mb\n"
     ]
    },
    {
     "name": "stdout",
     "output_type": "stream",
     "text": [
      "\r",
      "Reading files:   0%|                                                                                                                | 0/34 [00:00<?, ?it/s]"
     ]
    },
    {
     "name": "stdout",
     "output_type": "stream",
     "text": [
      "\r",
      "Reading files:   3%|███                                                                                                     | 1/34 [00:00<00:03,  9.10it/s]"
     ]
    },
    {
     "name": "stdout",
     "output_type": "stream",
     "text": [
      "\r",
      "Reading files:  26%|███████████████████████████▌                                                                            | 9/34 [00:00<00:00, 25.40it/s]"
     ]
    },
    {
     "name": "stdout",
     "output_type": "stream",
     "text": [
      "\r",
      "Reading files:  47%|████████████████████████████████████████████████▍                                                      | 16/34 [00:00<00:00, 25.54it/s]"
     ]
    },
    {
     "name": "stdout",
     "output_type": "stream",
     "text": [
      "\r",
      "Reading files:  82%|████████████████████████████████████████████████████████████████████████████████████▊                  | 28/34 [00:00<00:00, 45.67it/s]"
     ]
    },
    {
     "name": "stdout",
     "output_type": "stream",
     "text": [
      "\r",
      "Reading files: 100%|███████████████████████████████████████████████████████████████████████████████████████████████████████| 34/34 [00:00<00:00, 41.60it/s]"
     ]
    },
    {
     "name": "stdout",
     "output_type": "stream",
     "text": [
      "\n"
     ]
    },
    {
     "name": "stdout",
     "output_type": "stream",
     "text": [
      "Creating Dataset... "
     ]
    },
    {
     "name": "stdout",
     "output_type": "stream",
     "text": [
      "took 0.61 s. Size is 0.222 Mb\n",
      "Tests took 5.36 s to prepare (including reading data).\n"
     ]
    },
    {
     "name": "stdout",
     "output_type": "stream",
     "text": [
      "Tests took 14.76 s to perform.\n",
      "sky_too_bright:\n",
      "    Does the measured sky brightness in the raw spectra satisfy the observational requirement?\n",
      "sky_too_variable:\n",
      "    Does the measured sky brightness vary substantially (> 0.2 mag) between the sky fibres for each OB?\n"
     ]
    }
   ],
   "source": [
    "tests = MeasuredSkyCheck(n_processes=1)\n",
    "tests.run(date=\"201*\")"
   ]
  },
  {
   "cell_type": "code",
   "execution_count": null,
   "id": "5fb669b0-68c0-4dc4-92d2-237f56acaac5",
   "metadata": {},
   "outputs": [
    {
     "name": "stdout",
     "output_type": "stream",
     "text": [
      "2 varieties of test and 17 tested elements per variety, for total of 34 tests.\n",
      "12 tests failed (35.29%) and 22 tests passed (64.71%).\n"
     ]
    },
    {
     "data": {
      "text/html": [
       "<div>\n",
       "<style scoped>\n",
       "    .dataframe tbody tr th:only-of-type {\n",
       "        vertical-align: middle;\n",
       "    }\n",
       "\n",
       "    .dataframe tbody tr th {\n",
       "        vertical-align: top;\n",
       "    }\n",
       "\n",
       "    .dataframe thead tr th {\n",
       "        text-align: left;\n",
       "    }\n",
       "\n",
       "    .dataframe thead tr:last-of-type th {\n",
       "        text-align: right;\n",
       "    }\n",
       "</style>\n",
       "<table border=\"1\" class=\"dataframe\">\n",
       "  <thead>\n",
       "    <tr>\n",
       "      <th></th>\n",
       "      <th></th>\n",
       "      <th></th>\n",
       "      <th></th>\n",
       "      <th></th>\n",
       "      <th></th>\n",
       "      <th>failed</th>\n",
       "      <th>total fails</th>\n",
       "    </tr>\n",
       "    <tr>\n",
       "      <th></th>\n",
       "      <th></th>\n",
       "      <th></th>\n",
       "      <th></th>\n",
       "      <th></th>\n",
       "      <th>test</th>\n",
       "      <th>sky_too_bright</th>\n",
       "      <th></th>\n",
       "    </tr>\n",
       "    <tr>\n",
       "      <th>OBID</th>\n",
       "      <th>filename</th>\n",
       "      <th>RUN</th>\n",
       "      <th>CAMERA</th>\n",
       "      <th>MJD</th>\n",
       "      <th>NIGHT</th>\n",
       "      <th></th>\n",
       "      <th></th>\n",
       "    </tr>\n",
       "  </thead>\n",
       "  <tbody>\n",
       "    <tr>\n",
       "      <th>3170</th>\n",
       "      <th>stack_1002286</th>\n",
       "      <th>1002286</th>\n",
       "      <th>BLUE</th>\n",
       "      <th>57640.911400</th>\n",
       "      <th>20160909</th>\n",
       "      <td>True</td>\n",
       "      <td>1</td>\n",
       "    </tr>\n",
       "    <tr>\n",
       "      <th>3175</th>\n",
       "      <th>stack_1002334</th>\n",
       "      <th>1002334</th>\n",
       "      <th>BLUE</th>\n",
       "      <th>57641.137905</th>\n",
       "      <th>20160909</th>\n",
       "      <td>True</td>\n",
       "      <td>1</td>\n",
       "    </tr>\n",
       "    <tr>\n",
       "      <th>3191</th>\n",
       "      <th>stack_1002214</th>\n",
       "      <th>1002214</th>\n",
       "      <th>BLUE</th>\n",
       "      <th>57639.865255</th>\n",
       "      <th>20160908</th>\n",
       "      <td>True</td>\n",
       "      <td>1</td>\n",
       "    </tr>\n",
       "    <tr>\n",
       "      <th>3217</th>\n",
       "      <th>stack_1002310</th>\n",
       "      <th>1002310</th>\n",
       "      <th>BLUE</th>\n",
       "      <th>57641.001725</th>\n",
       "      <th>20160909</th>\n",
       "      <td>True</td>\n",
       "      <td>1</td>\n",
       "    </tr>\n",
       "    <tr>\n",
       "      <th>3295</th>\n",
       "      <th>stack_1002346</th>\n",
       "      <th>1002346</th>\n",
       "      <th>BLUE</th>\n",
       "      <th>57641.183009</th>\n",
       "      <th>20160909</th>\n",
       "      <td>True</td>\n",
       "      <td>1</td>\n",
       "    </tr>\n",
       "    <tr>\n",
       "      <th>3346</th>\n",
       "      <th>stack_1002238</th>\n",
       "      <th>1002238</th>\n",
       "      <th>BLUE</th>\n",
       "      <th>57639.954410</th>\n",
       "      <th>20160908</th>\n",
       "      <td>True</td>\n",
       "      <td>1</td>\n",
       "    </tr>\n",
       "    <tr>\n",
       "      <th>3372</th>\n",
       "      <th>stack_1002262</th>\n",
       "      <th>1002262</th>\n",
       "      <th>BLUE</th>\n",
       "      <th>57640.180567</th>\n",
       "      <th>20160908</th>\n",
       "      <td>True</td>\n",
       "      <td>1</td>\n",
       "    </tr>\n",
       "    <tr>\n",
       "      <th>3380</th>\n",
       "      <th>stack_1002322</th>\n",
       "      <th>1002322</th>\n",
       "      <th>BLUE</th>\n",
       "      <th>57641.092604</th>\n",
       "      <th>20160909</th>\n",
       "      <td>True</td>\n",
       "      <td>1</td>\n",
       "    </tr>\n",
       "    <tr>\n",
       "      <th>3434</th>\n",
       "      <th>stack_1002250</th>\n",
       "      <th>1002250</th>\n",
       "      <th>BLUE</th>\n",
       "      <th>57639.999560</th>\n",
       "      <th>20160908</th>\n",
       "      <td>True</td>\n",
       "      <td>1</td>\n",
       "    </tr>\n",
       "    <tr>\n",
       "      <th>3653</th>\n",
       "      <th>stack_1003354</th>\n",
       "      <th>1003354</th>\n",
       "      <th>BLUE</th>\n",
       "      <th>57809.111794</th>\n",
       "      <th>20170224</th>\n",
       "      <td>True</td>\n",
       "      <td>1</td>\n",
       "    </tr>\n",
       "    <tr>\n",
       "      <th>3756</th>\n",
       "      <th>stack_1003438</th>\n",
       "      <th>1003438</th>\n",
       "      <th>BLUE</th>\n",
       "      <th>57811.080127</th>\n",
       "      <th>20170226</th>\n",
       "      <td>True</td>\n",
       "      <td>1</td>\n",
       "    </tr>\n",
       "    <tr>\n",
       "      <th>3900</th>\n",
       "      <th>stack_1003330</th>\n",
       "      <th>1003330</th>\n",
       "      <th>BLUE</th>\n",
       "      <th>57809.025185</th>\n",
       "      <th>20170224</th>\n",
       "      <td>True</td>\n",
       "      <td>1</td>\n",
       "    </tr>\n",
       "  </tbody>\n",
       "</table>\n",
       "</div>"
      ],
      "text/plain": [
       "                                                                failed  \\\n",
       "test                                                    sky_too_bright   \n",
       "OBID filename      RUN     CAMERA MJD          NIGHT                     \n",
       "3170 stack_1002286 1002286 BLUE   57640.911400 20160909           True   \n",
       "3175 stack_1002334 1002334 BLUE   57641.137905 20160909           True   \n",
       "3191 stack_1002214 1002214 BLUE   57639.865255 20160908           True   \n",
       "3217 stack_1002310 1002310 BLUE   57641.001725 20160909           True   \n",
       "3295 stack_1002346 1002346 BLUE   57641.183009 20160909           True   \n",
       "3346 stack_1002238 1002238 BLUE   57639.954410 20160908           True   \n",
       "3372 stack_1002262 1002262 BLUE   57640.180567 20160908           True   \n",
       "3380 stack_1002322 1002322 BLUE   57641.092604 20160909           True   \n",
       "3434 stack_1002250 1002250 BLUE   57639.999560 20160908           True   \n",
       "3653 stack_1003354 1003354 BLUE   57809.111794 20170224           True   \n",
       "3756 stack_1003438 1003438 BLUE   57811.080127 20170226           True   \n",
       "3900 stack_1003330 1003330 BLUE   57809.025185 20170224           True   \n",
       "\n",
       "                                                        total fails  \n",
       "test                                                                 \n",
       "OBID filename      RUN     CAMERA MJD          NIGHT                 \n",
       "3170 stack_1002286 1002286 BLUE   57640.911400 20160909           1  \n",
       "3175 stack_1002334 1002334 BLUE   57641.137905 20160909           1  \n",
       "3191 stack_1002214 1002214 BLUE   57639.865255 20160908           1  \n",
       "3217 stack_1002310 1002310 BLUE   57641.001725 20160909           1  \n",
       "3295 stack_1002346 1002346 BLUE   57641.183009 20160909           1  \n",
       "3346 stack_1002238 1002238 BLUE   57639.954410 20160908           1  \n",
       "3372 stack_1002262 1002262 BLUE   57640.180567 20160908           1  \n",
       "3380 stack_1002322 1002322 BLUE   57641.092604 20160909           1  \n",
       "3434 stack_1002250 1002250 BLUE   57639.999560 20160908           1  \n",
       "3653 stack_1003354 1003354 BLUE   57809.111794 20170224           1  \n",
       "3756 stack_1003438 1003438 BLUE   57811.080127 20170226           1  \n",
       "3900 stack_1003330 1003330 BLUE   57809.025185 20170224           1  "
      ]
     },
     "execution_count": null,
     "metadata": {},
     "output_type": "execute_result"
    }
   ],
   "source": [
    "tests.summary()"
   ]
  },
  {
   "cell_type": "markdown",
   "id": "77b16a23-68d1-4ea7-8c08-e66b0641e09c",
   "metadata": {},
   "source": [
    "## Verification\n",
    "\n",
    "We now do some spot checks to verify and expand upon the above test results. Note that we assigned `self.stats` inside `tests`. This provides a way of accessing the statistics used in the tests, without having to construct them again. However, we still need to recompute the statistics (or whatever is derived from the `self.stats` `DataArray`), which takes a little time."
   ]
  },
  {
   "cell_type": "code",
   "execution_count": null,
   "id": "177e38fd-d9cc-41b5-bbd1-4017bc9f7971",
   "metadata": {},
   "outputs": [
    {
     "data": {
      "text/html": [
       "<div>\n",
       "<style scoped>\n",
       "    .dataframe tbody tr th:only-of-type {\n",
       "        vertical-align: middle;\n",
       "    }\n",
       "\n",
       "    .dataframe tbody tr th {\n",
       "        vertical-align: top;\n",
       "    }\n",
       "\n",
       "    .dataframe thead th {\n",
       "        text-align: right;\n",
       "    }\n",
       "</style>\n",
       "<table border=\"1\" class=\"dataframe\">\n",
       "  <thead>\n",
       "    <tr style=\"text-align: right;\">\n",
       "      <th></th>\n",
       "      <th>median_sky</th>\n",
       "      <th>sky_limit</th>\n",
       "      <th>sigma_sky</th>\n",
       "    </tr>\n",
       "    <tr>\n",
       "      <th>OBID</th>\n",
       "      <th></th>\n",
       "      <th></th>\n",
       "      <th></th>\n",
       "    </tr>\n",
       "  </thead>\n",
       "  <tbody>\n",
       "    <tr>\n",
       "      <th>3191</th>\n",
       "      <td>20.603799</td>\n",
       "      <td>21.0</td>\n",
       "      <td>0.074585</td>\n",
       "    </tr>\n",
       "    <tr>\n",
       "      <th>3133</th>\n",
       "      <td>20.773965</td>\n",
       "      <td>20.5</td>\n",
       "      <td>0.004181</td>\n",
       "    </tr>\n",
       "    <tr>\n",
       "      <th>3346</th>\n",
       "      <td>20.820886</td>\n",
       "      <td>21.0</td>\n",
       "      <td>0.010860</td>\n",
       "    </tr>\n",
       "    <tr>\n",
       "      <th>3434</th>\n",
       "      <td>21.248163</td>\n",
       "      <td>21.7</td>\n",
       "      <td>0.005929</td>\n",
       "    </tr>\n",
       "    <tr>\n",
       "      <th>3372</th>\n",
       "      <td>21.114255</td>\n",
       "      <td>21.5</td>\n",
       "      <td>0.005882</td>\n",
       "    </tr>\n",
       "    <tr>\n",
       "      <th>3170</th>\n",
       "      <td>20.483335</td>\n",
       "      <td>20.5</td>\n",
       "      <td>0.003557</td>\n",
       "    </tr>\n",
       "    <tr>\n",
       "      <th>3189</th>\n",
       "      <td>20.549922</td>\n",
       "      <td>20.5</td>\n",
       "      <td>0.019661</td>\n",
       "    </tr>\n",
       "    <tr>\n",
       "      <th>3217</th>\n",
       "      <td>20.489997</td>\n",
       "      <td>21.0</td>\n",
       "      <td>0.012291</td>\n",
       "    </tr>\n",
       "    <tr>\n",
       "      <th>3380</th>\n",
       "      <td>21.393496</td>\n",
       "      <td>21.7</td>\n",
       "      <td>0.007065</td>\n",
       "    </tr>\n",
       "    <tr>\n",
       "      <th>3175</th>\n",
       "      <td>21.381906</td>\n",
       "      <td>21.7</td>\n",
       "      <td>0.005771</td>\n",
       "    </tr>\n",
       "    <tr>\n",
       "      <th>3295</th>\n",
       "      <td>21.220036</td>\n",
       "      <td>21.5</td>\n",
       "      <td>0.005482</td>\n",
       "    </tr>\n",
       "    <tr>\n",
       "      <th>3802</th>\n",
       "      <td>21.532988</td>\n",
       "      <td>21.5</td>\n",
       "      <td>0.007846</td>\n",
       "    </tr>\n",
       "    <tr>\n",
       "      <th>3900</th>\n",
       "      <td>21.368027</td>\n",
       "      <td>21.5</td>\n",
       "      <td>0.007033</td>\n",
       "    </tr>\n",
       "    <tr>\n",
       "      <th>3803</th>\n",
       "      <td>21.513620</td>\n",
       "      <td>21.5</td>\n",
       "      <td>0.007022</td>\n",
       "    </tr>\n",
       "    <tr>\n",
       "      <th>3653</th>\n",
       "      <td>21.340145</td>\n",
       "      <td>21.5</td>\n",
       "      <td>0.006760</td>\n",
       "    </tr>\n",
       "    <tr>\n",
       "      <th>3806</th>\n",
       "      <td>21.546429</td>\n",
       "      <td>21.5</td>\n",
       "      <td>0.007333</td>\n",
       "    </tr>\n",
       "    <tr>\n",
       "      <th>3756</th>\n",
       "      <td>21.368030</td>\n",
       "      <td>21.5</td>\n",
       "      <td>0.005959</td>\n",
       "    </tr>\n",
       "  </tbody>\n",
       "</table>\n",
       "</div>"
      ],
      "text/plain": [
       "      median_sky  sky_limit  sigma_sky\n",
       "OBID                                  \n",
       "3191   20.603799       21.0   0.074585\n",
       "3133   20.773965       20.5   0.004181\n",
       "3346   20.820886       21.0   0.010860\n",
       "3434   21.248163       21.7   0.005929\n",
       "3372   21.114255       21.5   0.005882\n",
       "3170   20.483335       20.5   0.003557\n",
       "3189   20.549922       20.5   0.019661\n",
       "3217   20.489997       21.0   0.012291\n",
       "3380   21.393496       21.7   0.007065\n",
       "3175   21.381906       21.7   0.005771\n",
       "3295   21.220036       21.5   0.005482\n",
       "3802   21.532988       21.5   0.007846\n",
       "3900   21.368027       21.5   0.007033\n",
       "3803   21.513620       21.5   0.007022\n",
       "3653   21.340145       21.5   0.006760\n",
       "3806   21.546429       21.5   0.007333\n",
       "3756   21.368030       21.5   0.005959"
      ]
     },
     "execution_count": null,
     "metadata": {},
     "output_type": "execute_result"
    }
   ],
   "source": [
    "tests.stats.to_dataframe()[tests.stats.data_vars]"
   ]
  },
  {
   "cell_type": "code",
   "execution_count": null,
   "id": "fca8bb45-e1aa-4315-9aa1-14e36190cfa6",
   "metadata": {},
   "outputs": [],
   "source": [
    "# |hide\n",
    "import nbdev\n",
    "\n",
    "nbdev.nbdev_export()"
   ]
  }
 ],
 "metadata": {
  "kernelspec": {
   "display_name": "python3",
   "language": "python",
   "name": "python3"
  }
 },
 "nbformat": 4,
 "nbformat_minor": 5
}
