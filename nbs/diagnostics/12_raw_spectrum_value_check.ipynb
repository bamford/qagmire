{
 "cells": [
  {
   "cell_type": "markdown",
   "id": "dc0493e6",
   "metadata": {},
   "source": [
    "# Raw spectrum value check\n",
    "\n",
    "> Check that all raw spectra have real numbers and unsaturated pixels in their counts arrays."
   ]
  },
  {
   "cell_type": "code",
   "execution_count": null,
   "id": "23332175-f8be-4b76-927d-438042c90a2d",
   "metadata": {},
   "outputs": [],
   "source": [
    "# |default_exp diagnostics.raw_spectrum_value_check"
   ]
  },
  {
   "cell_type": "code",
   "execution_count": null,
   "id": "19db9eab",
   "metadata": {},
   "outputs": [],
   "source": [
    "# |export\n",
    "\n",
    "import numpy as np\n",
    "\n",
    "from qagmire.data import (\n",
    "    get_lr_raw_files,\n",
    "    read_raw_data,\n",
    ")\n",
    "from qagmire.quality_assurance import Diagnostics"
   ]
  },
  {
   "cell_type": "markdown",
   "id": "727cd5c3-93ed-47b2-bc6f-5407ace40e3a",
   "metadata": {},
   "source": [
    "To write checks of the data, we create a subclass of `Diagnostics` and implement the `tests` method."
   ]
  },
  {
   "cell_type": "code",
   "execution_count": null,
   "id": "14c43461-0a77-4ca8-8beb-571511201134",
   "metadata": {},
   "outputs": [],
   "source": [
    "# |export\n",
    "\n",
    "\n",
    "class RawSpectrumValueCheck(Diagnostics):\n",
    "    \"\"\"Raw spectrum value check.\n",
    "\n",
    "    A reproduction of the class with the same name in the weaveio\n",
    "    [value_checks](https://github.com/bamford/QAG/blob/master/diagnostics/value_checks.py).\n",
    "\n",
    "    This tests for the following cases:\n",
    "\n",
    "    * Are there too many pixels saturated above the ADU threshold?\n",
    "    * Are there negative pixel values?\n",
    "    * Are there non-finite pixel values?\n",
    "\n",
    "    for both counts1 and counts2.\n",
    "    \"\"\"\n",
    "\n",
    "    def __init__(\n",
    "        self,\n",
    "        saturation_limit_adu: float = 65535,  # the saturation limit in ADU\n",
    "        n_allowed_saturated_pixels: int = 0,  # the number of allowed saturated pixels per counts array\n",
    "        **kwargs,  # additional keyword arguments are passed to the `Diagnostics` constructor\n",
    "    ):\n",
    "        self.saturation_limit_adu = saturation_limit_adu\n",
    "        self.n_allowed_saturated_pixels = n_allowed_saturated_pixels\n",
    "        super().__init__(**kwargs)\n",
    "\n",
    "    def tests(self, **kwargs):\n",
    "        files = get_lr_raw_files(**kwargs)\n",
    "        data = read_raw_data(files)\n",
    "\n",
    "        sat = data >= self.saturation_limit_adu\n",
    "        neg = data < 0\n",
    "        nan = ~np.isfinite(data)\n",
    "\n",
    "        count_sat = sat.sum(dim=[\"dim_0\", \"dim_1\"])\n",
    "        any_neg = neg.any(dim=[\"dim_0\", \"dim_1\"])\n",
    "        any_nan = nan.any(dim=[\"dim_0\", \"dim_1\"])\n",
    "\n",
    "        tests = [\n",
    "            {\n",
    "                \"name\": \"too_many_sat_in_counts1\",\n",
    "                \"description\": \"Are there too many pixels saturated above the ADU threshold in counts1?\",\n",
    "                \"test\": count_sat[\"counts1\"] > self.n_allowed_saturated_pixels,\n",
    "            },\n",
    "            {\n",
    "                \"name\": \"neg_pixels_in_counts1\",\n",
    "                \"description\": \"Are there negative pixel values in counts1?\",\n",
    "                \"test\": any_neg[\"counts1\"],\n",
    "            },\n",
    "            {\n",
    "                \"name\": \"nan_pixels_in_counts1\",\n",
    "                \"description\": \"Are there non-finite pixel values in counts1?\",\n",
    "                \"test\": any_nan[\"counts1\"],\n",
    "            },\n",
    "            {\n",
    "                \"name\": \"too_many_sat_in_counts2\",\n",
    "                \"description\": \"Are there too many pixels saturated above the ADU threshold in counts2\",\n",
    "                \"test\": count_sat[\"counts2\"] > self.n_allowed_saturated_pixels,\n",
    "            },\n",
    "            {\n",
    "                \"name\": \"neg_pixels_in_counts2\",\n",
    "                \"description\": \"Are there negative pixel values in counts2?\",\n",
    "                \"test\": any_neg[\"counts2\"],\n",
    "            },\n",
    "            {\n",
    "                \"name\": \"nan_pixels_in_counts2\",\n",
    "                \"description\": \"Are there non-finite pixel values in counts2?\",\n",
    "                \"test\": any_nan[\"counts2\"],\n",
    "            },\n",
    "        ]\n",
    "        return tests"
   ]
  },
  {
   "cell_type": "markdown",
   "id": "b7e17d58-c438-47b4-bfa5-2baf9ca79a53",
   "metadata": {},
   "source": [
    "## Demonstration tests"
   ]
  },
  {
   "cell_type": "markdown",
   "id": "7b930acc-a370-4e59-ad35-a069483da7c1",
   "metadata": {},
   "source": [
    "Here we use multiple `dask` workers to speed up this test. We are checking 10 billion pixel values. On a single core, this takes ~110 seconds. With 8 workers, it takes ~22 seconds."
   ]
  },
  {
   "cell_type": "code",
   "execution_count": null,
   "id": "f63a1c6c-5716-40ee-90c0-8e24eb4a1816",
   "metadata": {},
   "outputs": [
    {
     "name": "stdout",
     "output_type": "stream",
     "text": [
      "\r",
      "Locating and converting where necessary:   0%|                | 0/252 [00:00<?, ?it/s]"
     ]
    },
    {
     "name": "stdout",
     "output_type": "stream",
     "text": [
      "\r",
      "Locating and converting where necessary:   0%|        | 1/252 [00:01<07:00,  1.68s/it]"
     ]
    },
    {
     "name": "stdout",
     "output_type": "stream",
     "text": [
      "\r",
      "Locating and converting where necessary:   2%|▏       | 5/252 [00:01<01:08,  3.63it/s]"
     ]
    },
    {
     "name": "stdout",
     "output_type": "stream",
     "text": [
      "\r",
      "Locating and converting where necessary:   3%|▏       | 7/252 [00:01<00:50,  4.87it/s]"
     ]
    },
    {
     "name": "stdout",
     "output_type": "stream",
     "text": [
      "\r",
      "Locating and converting where necessary:   4%|▎       | 9/252 [00:03<01:29,  2.71it/s]"
     ]
    },
    {
     "name": "stdout",
     "output_type": "stream",
     "text": [
      "\r",
      "Locating and converting where necessary:   4%|▎      | 11/252 [00:03<01:06,  3.63it/s]"
     ]
    },
    {
     "name": "stdout",
     "output_type": "stream",
     "text": [
      "\r",
      "Locating and converting where necessary:   5%|▎      | 13/252 [00:03<00:52,  4.57it/s]"
     ]
    },
    {
     "name": "stdout",
     "output_type": "stream",
     "text": [
      "\r",
      "Locating and converting where necessary:   6%|▍      | 15/252 [00:03<00:43,  5.45it/s]"
     ]
    },
    {
     "name": "stdout",
     "output_type": "stream",
     "text": [
      "\r",
      "Locating and converting where necessary:   6%|▍      | 16/252 [00:05<01:30,  2.60it/s]"
     ]
    },
    {
     "name": "stdout",
     "output_type": "stream",
     "text": [
      "\r",
      "Locating and converting where necessary:   7%|▌      | 18/252 [00:05<01:04,  3.66it/s]"
     ]
    },
    {
     "name": "stdout",
     "output_type": "stream",
     "text": [
      "\r",
      "Locating and converting where necessary:   8%|▌      | 21/252 [00:05<00:46,  4.97it/s]"
     ]
    },
    {
     "name": "stdout",
     "output_type": "stream",
     "text": [
      "\r",
      "Locating and converting where necessary:   9%|▌      | 22/252 [00:05<00:49,  4.69it/s]"
     ]
    },
    {
     "name": "stdout",
     "output_type": "stream",
     "text": [
      "\r",
      "Locating and converting where necessary:   9%|▋      | 23/252 [00:06<01:20,  2.83it/s]"
     ]
    },
    {
     "name": "stdout",
     "output_type": "stream",
     "text": [
      "\r",
      "Locating and converting where necessary:  10%|▋      | 24/252 [00:07<01:16,  2.98it/s]"
     ]
    },
    {
     "name": "stdout",
     "output_type": "stream",
     "text": [
      "\r",
      "Locating and converting where necessary:  11%|▊      | 28/252 [00:07<00:40,  5.55it/s]"
     ]
    },
    {
     "name": "stdout",
     "output_type": "stream",
     "text": [
      "\r",
      "Locating and converting where necessary:  12%|▊      | 30/252 [00:07<00:49,  4.45it/s]"
     ]
    },
    {
     "name": "stdout",
     "output_type": "stream",
     "text": [
      "\r",
      "Locating and converting where necessary:  12%|▊      | 31/252 [00:08<00:56,  3.91it/s]"
     ]
    },
    {
     "name": "stdout",
     "output_type": "stream",
     "text": [
      "\r",
      "Locating and converting where necessary:  13%|▉      | 32/252 [00:08<01:01,  3.59it/s]"
     ]
    },
    {
     "name": "stdout",
     "output_type": "stream",
     "text": [
      "\r",
      "Locating and converting where necessary:  14%|▉      | 35/252 [00:09<00:48,  4.43it/s]"
     ]
    },
    {
     "name": "stdout",
     "output_type": "stream",
     "text": [
      "\r",
      "Locating and converting where necessary:  14%|█      | 36/252 [00:09<00:44,  4.81it/s]"
     ]
    },
    {
     "name": "stdout",
     "output_type": "stream",
     "text": [
      "\r",
      "Locating and converting where necessary:  15%|█      | 37/252 [00:09<00:48,  4.40it/s]"
     ]
    },
    {
     "name": "stdout",
     "output_type": "stream",
     "text": [
      "\r",
      "Locating and converting where necessary:  15%|█      | 38/252 [00:09<00:49,  4.29it/s]"
     ]
    },
    {
     "name": "stdout",
     "output_type": "stream",
     "text": [
      "\r",
      "Locating and converting where necessary:  15%|█      | 39/252 [00:10<01:09,  3.05it/s]"
     ]
    },
    {
     "name": "stdout",
     "output_type": "stream",
     "text": [
      "\r",
      "Locating and converting where necessary:  17%|█▏     | 42/252 [00:10<00:44,  4.75it/s]"
     ]
    },
    {
     "name": "stdout",
     "output_type": "stream",
     "text": [
      "\r",
      "Locating and converting where necessary:  17%|█▏     | 44/252 [00:11<00:43,  4.83it/s]"
     ]
    },
    {
     "name": "stdout",
     "output_type": "stream",
     "text": [
      "\r",
      "Locating and converting where necessary:  18%|█▎     | 45/252 [00:11<00:44,  4.63it/s]"
     ]
    },
    {
     "name": "stdout",
     "output_type": "stream",
     "text": [
      "\r",
      "Locating and converting where necessary:  18%|█▎     | 46/252 [00:12<01:10,  2.92it/s]"
     ]
    },
    {
     "name": "stdout",
     "output_type": "stream",
     "text": [
      "\r",
      "Locating and converting where necessary:  19%|█▎     | 48/252 [00:12<00:52,  3.86it/s]"
     ]
    },
    {
     "name": "stdout",
     "output_type": "stream",
     "text": [
      "\r",
      "Locating and converting where necessary:  19%|█▎     | 49/252 [00:12<00:55,  3.65it/s]"
     ]
    },
    {
     "name": "stdout",
     "output_type": "stream",
     "text": [
      "\r",
      "Locating and converting where necessary:  20%|█▍     | 51/252 [00:13<00:48,  4.11it/s]"
     ]
    },
    {
     "name": "stdout",
     "output_type": "stream",
     "text": [
      "\r",
      "Locating and converting where necessary:  21%|█▍     | 52/252 [00:13<00:46,  4.28it/s]"
     ]
    },
    {
     "name": "stdout",
     "output_type": "stream",
     "text": [
      "\r",
      "Locating and converting where necessary:  21%|█▌     | 54/252 [00:13<00:47,  4.18it/s]"
     ]
    },
    {
     "name": "stdout",
     "output_type": "stream",
     "text": [
      "\r",
      "Locating and converting where necessary:  22%|█▌     | 55/252 [00:14<00:42,  4.63it/s]"
     ]
    },
    {
     "name": "stdout",
     "output_type": "stream",
     "text": [
      "\r",
      "Locating and converting where necessary:  22%|█▌     | 56/252 [00:14<00:38,  5.07it/s]"
     ]
    },
    {
     "name": "stdout",
     "output_type": "stream",
     "text": [
      "\r",
      "Locating and converting where necessary:  23%|█▌     | 57/252 [00:14<00:46,  4.22it/s]"
     ]
    },
    {
     "name": "stdout",
     "output_type": "stream",
     "text": [
      "\r",
      "Locating and converting where necessary:  23%|█▌     | 58/252 [00:14<00:41,  4.63it/s]"
     ]
    },
    {
     "name": "stdout",
     "output_type": "stream",
     "text": [
      "\r",
      "Locating and converting where necessary:  23%|█▋     | 59/252 [00:15<00:43,  4.48it/s]"
     ]
    },
    {
     "name": "stdout",
     "output_type": "stream",
     "text": [
      "\r",
      "Locating and converting where necessary:  24%|█▋     | 60/252 [00:15<00:48,  3.98it/s]"
     ]
    },
    {
     "name": "stdout",
     "output_type": "stream",
     "text": [
      "\r",
      "Locating and converting where necessary:  24%|█▋     | 61/252 [00:15<01:01,  3.13it/s]"
     ]
    },
    {
     "name": "stdout",
     "output_type": "stream",
     "text": [
      "\r",
      "Locating and converting where necessary:  25%|█▋     | 62/252 [00:16<00:56,  3.37it/s]"
     ]
    },
    {
     "name": "stdout",
     "output_type": "stream",
     "text": [
      "\r",
      "Locating and converting where necessary:  25%|█▊     | 63/252 [00:16<00:49,  3.82it/s]"
     ]
    },
    {
     "name": "stdout",
     "output_type": "stream",
     "text": [
      "\r",
      "Locating and converting where necessary:  25%|█▊     | 64/252 [00:16<00:45,  4.16it/s]"
     ]
    },
    {
     "name": "stdout",
     "output_type": "stream",
     "text": [
      "\r",
      "Locating and converting where necessary:  26%|█▊     | 65/252 [00:16<00:39,  4.72it/s]"
     ]
    },
    {
     "name": "stdout",
     "output_type": "stream",
     "text": [
      "\r",
      "Locating and converting where necessary:  27%|█▊     | 67/252 [00:16<00:29,  6.30it/s]"
     ]
    },
    {
     "name": "stdout",
     "output_type": "stream",
     "text": [
      "\r",
      "Locating and converting where necessary:  27%|█▉     | 68/252 [00:16<00:30,  6.03it/s]"
     ]
    },
    {
     "name": "stdout",
     "output_type": "stream",
     "text": [
      "\r",
      "Locating and converting where necessary:  27%|█▉     | 69/252 [00:17<00:51,  3.59it/s]"
     ]
    },
    {
     "name": "stdout",
     "output_type": "stream",
     "text": [
      "\r",
      "Locating and converting where necessary:  28%|█▉     | 70/252 [00:17<00:49,  3.71it/s]"
     ]
    },
    {
     "name": "stdout",
     "output_type": "stream",
     "text": [
      "\r",
      "Locating and converting where necessary:  28%|█▉     | 71/252 [00:17<00:41,  4.41it/s]"
     ]
    },
    {
     "name": "stdout",
     "output_type": "stream",
     "text": [
      "\r",
      "Locating and converting where necessary:  29%|██     | 72/252 [00:18<00:34,  5.17it/s]"
     ]
    },
    {
     "name": "stdout",
     "output_type": "stream",
     "text": [
      "\r",
      "Locating and converting where necessary:  29%|██     | 73/252 [00:18<00:41,  4.29it/s]"
     ]
    },
    {
     "name": "stdout",
     "output_type": "stream",
     "text": [
      "\r",
      "Locating and converting where necessary:  30%|██     | 76/252 [00:18<00:24,  7.18it/s]"
     ]
    },
    {
     "name": "stdout",
     "output_type": "stream",
     "text": [
      "\r",
      "Locating and converting where necessary:  31%|██▏    | 77/252 [00:19<00:36,  4.79it/s]"
     ]
    },
    {
     "name": "stdout",
     "output_type": "stream",
     "text": [
      "\r",
      "Locating and converting where necessary:  31%|██▏    | 78/252 [00:19<00:51,  3.37it/s]"
     ]
    },
    {
     "name": "stdout",
     "output_type": "stream",
     "text": [
      "\r",
      "Locating and converting where necessary:  31%|██▏    | 79/252 [00:20<00:55,  3.10it/s]"
     ]
    },
    {
     "name": "stdout",
     "output_type": "stream",
     "text": [
      "\r",
      "Locating and converting where necessary:  32%|██▎    | 81/252 [00:23<02:24,  1.18it/s]"
     ]
    },
    {
     "name": "stdout",
     "output_type": "stream",
     "text": [
      "\r",
      "Locating and converting where necessary:  33%|██▎    | 83/252 [00:23<01:36,  1.75it/s]"
     ]
    },
    {
     "name": "stdout",
     "output_type": "stream",
     "text": [
      "\r",
      "Locating and converting where necessary:  34%|██▍    | 86/252 [00:24<01:29,  1.86it/s]"
     ]
    },
    {
     "name": "stdout",
     "output_type": "stream",
     "text": [
      "\r",
      "Locating and converting where necessary:  35%|██▍    | 88/252 [00:25<01:05,  2.51it/s]"
     ]
    },
    {
     "name": "stdout",
     "output_type": "stream",
     "text": [
      "\r",
      "Locating and converting where necessary:  36%|██▌    | 91/252 [00:25<00:41,  3.86it/s]"
     ]
    },
    {
     "name": "stdout",
     "output_type": "stream",
     "text": [
      "\r",
      "Locating and converting where necessary:  37%|██▌    | 93/252 [00:29<01:57,  1.35it/s]"
     ]
    },
    {
     "name": "stdout",
     "output_type": "stream",
     "text": [
      "\r",
      "Locating and converting where necessary:  37%|██▌    | 94/252 [00:30<02:09,  1.22it/s]"
     ]
    },
    {
     "name": "stdout",
     "output_type": "stream",
     "text": [
      "\r",
      "Locating and converting where necessary:  39%|██▋    | 98/252 [00:30<01:07,  2.28it/s]"
     ]
    },
    {
     "name": "stdout",
     "output_type": "stream",
     "text": [
      "\r",
      "Locating and converting where necessary:  40%|██▍   | 101/252 [00:30<00:50,  3.02it/s]"
     ]
    },
    {
     "name": "stdout",
     "output_type": "stream",
     "text": [
      "\r",
      "Locating and converting where necessary:  41%|██▍   | 103/252 [00:32<00:59,  2.49it/s]"
     ]
    },
    {
     "name": "stdout",
     "output_type": "stream",
     "text": [
      "\r",
      "Locating and converting where necessary:  42%|██▌   | 106/252 [00:32<00:40,  3.58it/s]"
     ]
    },
    {
     "name": "stdout",
     "output_type": "stream",
     "text": [
      "\r",
      "Locating and converting where necessary:  43%|██▌   | 108/252 [00:32<00:34,  4.21it/s]"
     ]
    },
    {
     "name": "stdout",
     "output_type": "stream",
     "text": [
      "\r",
      "Locating and converting where necessary:  44%|██▌   | 110/252 [00:33<00:48,  2.91it/s]"
     ]
    },
    {
     "name": "stdout",
     "output_type": "stream",
     "text": [
      "\r",
      "Locating and converting where necessary:  44%|██▋   | 111/252 [00:33<00:43,  3.24it/s]"
     ]
    },
    {
     "name": "stdout",
     "output_type": "stream",
     "text": [
      "\r",
      "Locating and converting where necessary:  45%|██▋   | 114/252 [00:34<00:27,  4.96it/s]"
     ]
    },
    {
     "name": "stdout",
     "output_type": "stream",
     "text": [
      "\r",
      "Locating and converting where necessary:  46%|██▊   | 116/252 [00:35<00:43,  3.10it/s]"
     ]
    },
    {
     "name": "stdout",
     "output_type": "stream",
     "text": [
      "\r",
      "Locating and converting where necessary:  47%|██▊   | 119/252 [00:35<00:32,  4.09it/s]"
     ]
    },
    {
     "name": "stdout",
     "output_type": "stream",
     "text": [
      "\r",
      "Locating and converting where necessary:  48%|██▉   | 122/252 [00:35<00:23,  5.61it/s]"
     ]
    },
    {
     "name": "stdout",
     "output_type": "stream",
     "text": [
      "\r",
      "Locating and converting where necessary:  49%|██▉   | 124/252 [00:36<00:33,  3.81it/s]"
     ]
    },
    {
     "name": "stdout",
     "output_type": "stream",
     "text": [
      "\r",
      "Locating and converting where necessary:  67%|████  | 168/252 [00:36<00:02, 31.41it/s]"
     ]
    },
    {
     "name": "stdout",
     "output_type": "stream",
     "text": [
      "\r",
      "Locating and converting where necessary:  98%|█████▊| 246/252 [00:37<00:00, 87.48it/s]"
     ]
    },
    {
     "name": "stdout",
     "output_type": "stream",
     "text": [
      "\r",
      "Locating and converting where necessary: 100%|██████| 252/252 [00:38<00:00,  6.55it/s]"
     ]
    },
    {
     "name": "stdout",
     "output_type": "stream",
     "text": [
      "\n",
      "Reading netCDF files... "
     ]
    },
    {
     "name": "stdout",
     "output_type": "stream",
     "text": [
      "took 4.58 s. Size is 37566.851 Mb\n",
      "Tests took 50.49 s to prepare (including reading data).\n"
     ]
    },
    {
     "name": "stderr",
     "output_type": "stream",
     "text": [
      "2024-03-19 16:58:42,116 - distributed.worker - ERROR - Failed to communicate with scheduler during heartbeat.\n",
      "Traceback (most recent call last):\n",
      "  File \"/home2/bamford/anaconda/envs/qagmire/lib/python3.12/site-packages/distributed/comm/tcp.py\", line 225, in read\n",
      "    frames_nosplit_nbytes_bin = await stream.read_bytes(fmt_size)\n",
      "                                ^^^^^^^^^^^^^^^^^^^^^^^^^^^^^^^^^\n",
      "tornado.iostream.StreamClosedError: Stream is closed\n",
      "\n",
      "The above exception was the direct cause of the following exception:\n",
      "\n",
      "Traceback (most recent call last):\n",
      "  File \"/home2/bamford/anaconda/envs/qagmire/lib/python3.12/site-packages/distributed/worker.py\", line 1252, in heartbeat\n",
      "    response = await retry_operation(\n",
      "               ^^^^^^^^^^^^^^^^^^^^^^\n",
      "  File \"/home2/bamford/anaconda/envs/qagmire/lib/python3.12/site-packages/distributed/utils_comm.py\", line 455, in retry_operation\n",
      "    return await retry(\n",
      "           ^^^^^^^^^^^^\n",
      "  File \"/home2/bamford/anaconda/envs/qagmire/lib/python3.12/site-packages/distributed/utils_comm.py\", line 434, in retry\n",
      "    return await coro()\n",
      "           ^^^^^^^^^^^^\n",
      "  File \"/home2/bamford/anaconda/envs/qagmire/lib/python3.12/site-packages/distributed/core.py\", line 1395, in send_recv_from_rpc\n",
      "    return await send_recv(comm=comm, op=key, **kwargs)\n",
      "           ^^^^^^^^^^^^^^^^^^^^^^^^^^^^^^^^^^^^^^^^^^^^\n",
      "  File \"/home2/bamford/anaconda/envs/qagmire/lib/python3.12/site-packages/distributed/core.py\", line 1154, in send_recv\n",
      "    response = await comm.read(deserializers=deserializers)\n",
      "               ^^^^^^^^^^^^^^^^^^^^^^^^^^^^^^^^^^^^^^^^^^^^\n",
      "  File \"/home2/bamford/anaconda/envs/qagmire/lib/python3.12/site-packages/distributed/comm/tcp.py\", line 236, in read\n",
      "    convert_stream_closed_error(self, e)\n",
      "  File \"/home2/bamford/anaconda/envs/qagmire/lib/python3.12/site-packages/distributed/comm/tcp.py\", line 142, in convert_stream_closed_error\n",
      "    raise CommClosedError(f\"in {obj}: {exc}\") from exc\n",
      "distributed.comm.core.CommClosedError: in <TCP (closed) ConnectionPool.heartbeat_worker local=tcp://127.0.0.1:52704 remote=tcp://127.0.0.1:39198>: Stream is closed\n"
     ]
    },
    {
     "name": "stdout",
     "output_type": "stream",
     "text": [
      "Tests took 27.21 s to perform.\n",
      "too_many_sat_in_counts1:\n",
      "    Are there too many pixels saturated above the ADU threshold in counts1?\n",
      "neg_pixels_in_counts1:\n",
      "    Are there negative pixel values in counts1?\n",
      "nan_pixels_in_counts1:\n",
      "    Are there non-finite pixel values in counts1?\n",
      "too_many_sat_in_counts2:\n",
      "    Are there too many pixels saturated above the ADU threshold in counts2\n",
      "neg_pixels_in_counts2:\n",
      "    Are there negative pixel values in counts2?\n",
      "nan_pixels_in_counts2:\n",
      "    Are there non-finite pixel values in counts2?\n"
     ]
    }
   ],
   "source": [
    "tests = RawSpectrumValueCheck(n_processes=8)\n",
    "tests.run(date=\"201*\")"
   ]
  },
  {
   "cell_type": "code",
   "execution_count": null,
   "id": "add1a367-b20a-47bb-8de2-e8c0b197be64",
   "metadata": {},
   "outputs": [
    {
     "data": {
      "text/html": [
       "<div>\n",
       "<style scoped>\n",
       "    .dataframe tbody tr th:only-of-type {\n",
       "        vertical-align: middle;\n",
       "    }\n",
       "\n",
       "    .dataframe tbody tr th {\n",
       "        vertical-align: top;\n",
       "    }\n",
       "\n",
       "    .dataframe thead tr th {\n",
       "        text-align: left;\n",
       "    }\n",
       "\n",
       "    .dataframe thead tr:last-of-type th {\n",
       "        text-align: right;\n",
       "    }\n",
       "</style>\n",
       "<table border=\"1\" class=\"dataframe\">\n",
       "  <thead>\n",
       "    <tr>\n",
       "      <th></th>\n",
       "      <th></th>\n",
       "      <th></th>\n",
       "      <th></th>\n",
       "      <th></th>\n",
       "      <th></th>\n",
       "      <th colspan=\"2\" halign=\"left\">failed</th>\n",
       "      <th>total fails</th>\n",
       "    </tr>\n",
       "    <tr>\n",
       "      <th></th>\n",
       "      <th></th>\n",
       "      <th></th>\n",
       "      <th></th>\n",
       "      <th></th>\n",
       "      <th>test</th>\n",
       "      <th>too_many_sat_in_counts1</th>\n",
       "      <th>too_many_sat_in_counts2</th>\n",
       "      <th></th>\n",
       "    </tr>\n",
       "    <tr>\n",
       "      <th>filename</th>\n",
       "      <th>RUN</th>\n",
       "      <th>CAMERA</th>\n",
       "      <th>MJD</th>\n",
       "      <th>NIGHT</th>\n",
       "      <th>OBID</th>\n",
       "      <th></th>\n",
       "      <th></th>\n",
       "      <th></th>\n",
       "    </tr>\n",
       "  </thead>\n",
       "  <tbody>\n",
       "    <tr>\n",
       "      <th>r1002213</th>\n",
       "      <th>1002213</th>\n",
       "      <th>RED</th>\n",
       "      <th>57639.8653</th>\n",
       "      <th>20160908</th>\n",
       "      <th>3191</th>\n",
       "      <td>True</td>\n",
       "      <td>False</td>\n",
       "      <td>1</td>\n",
       "    </tr>\n",
       "    <tr>\n",
       "      <th>r1002215</th>\n",
       "      <th>1002215</th>\n",
       "      <th>RED</th>\n",
       "      <th>57639.8784</th>\n",
       "      <th>20160908</th>\n",
       "      <th>3191</th>\n",
       "      <td>True</td>\n",
       "      <td>False</td>\n",
       "      <td>1</td>\n",
       "    </tr>\n",
       "    <tr>\n",
       "      <th>r1002217</th>\n",
       "      <th>1002217</th>\n",
       "      <th>RED</th>\n",
       "      <th>57639.8916</th>\n",
       "      <th>20160908</th>\n",
       "      <th>3191</th>\n",
       "      <td>True</td>\n",
       "      <td>False</td>\n",
       "      <td>1</td>\n",
       "    </tr>\n",
       "    <tr>\n",
       "      <th>r1002219</th>\n",
       "      <th>1002219</th>\n",
       "      <th>RED</th>\n",
       "      <th>57639.9048</th>\n",
       "      <th>20160908</th>\n",
       "      <th>3191</th>\n",
       "      <td>False</td>\n",
       "      <td>True</td>\n",
       "      <td>1</td>\n",
       "    </tr>\n",
       "    <tr>\n",
       "      <th>r1002243</th>\n",
       "      <th>1002243</th>\n",
       "      <th>RED</th>\n",
       "      <th>57639.9940</th>\n",
       "      <th>20160908</th>\n",
       "      <th>3346</th>\n",
       "      <td>False</td>\n",
       "      <td>True</td>\n",
       "      <td>1</td>\n",
       "    </tr>\n",
       "    <tr>\n",
       "      <th>r1002307</th>\n",
       "      <th>1002307</th>\n",
       "      <th>RED</th>\n",
       "      <th>57640.9996</th>\n",
       "      <th>20160909</th>\n",
       "      <th>3217</th>\n",
       "      <td>False</td>\n",
       "      <td>True</td>\n",
       "      <td>1</td>\n",
       "    </tr>\n",
       "    <tr>\n",
       "      <th>r1003335</th>\n",
       "      <th>1003335</th>\n",
       "      <th>RED</th>\n",
       "      <th>57809.0648</th>\n",
       "      <th>20170224</th>\n",
       "      <th>3900</th>\n",
       "      <td>False</td>\n",
       "      <td>True</td>\n",
       "      <td>1</td>\n",
       "    </tr>\n",
       "  </tbody>\n",
       "</table>\n",
       "</div>"
      ],
      "text/plain": [
       "                                                                  failed  \\\n",
       "test                                             too_many_sat_in_counts1   \n",
       "filename RUN     CAMERA MJD        NIGHT    OBID                           \n",
       "r1002213 1002213 RED    57639.8653 20160908 3191                    True   \n",
       "r1002215 1002215 RED    57639.8784 20160908 3191                    True   \n",
       "r1002217 1002217 RED    57639.8916 20160908 3191                    True   \n",
       "r1002219 1002219 RED    57639.9048 20160908 3191                   False   \n",
       "r1002243 1002243 RED    57639.9940 20160908 3346                   False   \n",
       "r1002307 1002307 RED    57640.9996 20160909 3217                   False   \n",
       "r1003335 1003335 RED    57809.0648 20170224 3900                   False   \n",
       "\n",
       "                                                                          \\\n",
       "test                                             too_many_sat_in_counts2   \n",
       "filename RUN     CAMERA MJD        NIGHT    OBID                           \n",
       "r1002213 1002213 RED    57639.8653 20160908 3191                   False   \n",
       "r1002215 1002215 RED    57639.8784 20160908 3191                   False   \n",
       "r1002217 1002217 RED    57639.8916 20160908 3191                   False   \n",
       "r1002219 1002219 RED    57639.9048 20160908 3191                    True   \n",
       "r1002243 1002243 RED    57639.9940 20160908 3346                    True   \n",
       "r1002307 1002307 RED    57640.9996 20160909 3217                    True   \n",
       "r1003335 1003335 RED    57809.0648 20170224 3900                    True   \n",
       "\n",
       "                                                 total fails  \n",
       "test                                                          \n",
       "filename RUN     CAMERA MJD        NIGHT    OBID              \n",
       "r1002213 1002213 RED    57639.8653 20160908 3191           1  \n",
       "r1002215 1002215 RED    57639.8784 20160908 3191           1  \n",
       "r1002217 1002217 RED    57639.8916 20160908 3191           1  \n",
       "r1002219 1002219 RED    57639.9048 20160908 3191           1  \n",
       "r1002243 1002243 RED    57639.9940 20160908 3346           1  \n",
       "r1002307 1002307 RED    57640.9996 20160909 3217           1  \n",
       "r1003335 1003335 RED    57809.0648 20170224 3900           1  "
      ]
     },
     "execution_count": null,
     "metadata": {},
     "output_type": "execute_result"
    }
   ],
   "source": [
    "tests.summary()"
   ]
  },
  {
   "cell_type": "code",
   "execution_count": null,
   "id": "fca8bb45-e1aa-4315-9aa1-14e36190cfa6",
   "metadata": {},
   "outputs": [],
   "source": [
    "# |hide\n",
    "import nbdev\n",
    "\n",
    "nbdev.nbdev_export()"
   ]
  }
 ],
 "metadata": {
  "kernelspec": {
   "display_name": "python3",
   "language": "python",
   "name": "python3"
  }
 },
 "nbformat": 4,
 "nbformat_minor": 5
}
