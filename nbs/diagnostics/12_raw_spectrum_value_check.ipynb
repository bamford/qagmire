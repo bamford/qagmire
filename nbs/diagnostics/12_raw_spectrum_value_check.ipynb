{
 "cells": [
  {
   "cell_type": "markdown",
   "id": "dc0493e6",
   "metadata": {},
   "source": [
    "# Raw spectrum value check\n",
    "\n",
    "> Check that all raw spectra have real numbers and unsaturated pixels in their counts arrays."
   ]
  },
  {
   "cell_type": "code",
   "execution_count": null,
   "id": "23332175-f8be-4b76-927d-438042c90a2d",
   "metadata": {},
   "outputs": [],
   "source": [
    "# |default_exp diagnostics.raw_spectrum_value_check"
   ]
  },
  {
   "cell_type": "code",
   "execution_count": null,
   "id": "19db9eab",
   "metadata": {},
   "outputs": [],
   "source": [
    "# |export\n",
    "\n",
    "import numpy as np\n",
    "\n",
    "from qagmire.data import (\n",
    "    get_lr_raw_files,\n",
    "    read_raw_data,\n",
    ")\n",
    "from qagmire.quality_assurance import Diagnostics"
   ]
  },
  {
   "cell_type": "markdown",
   "id": "727cd5c3-93ed-47b2-bc6f-5407ace40e3a",
   "metadata": {},
   "source": [
    "To write checks of the data, we create a subclass of `Diagnostics` and implement the `tests` method."
   ]
  },
  {
   "cell_type": "code",
   "execution_count": null,
   "id": "14c43461-0a77-4ca8-8beb-571511201134",
   "metadata": {},
   "outputs": [],
   "source": [
    "# |export\n",
    "\n",
    "\n",
    "class RawSpectrumValueCheck(Diagnostics):\n",
    "    \"\"\"Raw spectrum value check.\n",
    "\n",
    "    A reproduction of the class with the same name in the weaveio\n",
    "    [value_checks](https://github.com/bamford/QAG/blob/master/diagnostics/value_checks.py).\n",
    "\n",
    "    This tests for the following cases:\n",
    "\n",
    "    * Are there too many pixels saturated above the ADU threshold?\n",
    "    * Are there negative pixel values?\n",
    "    * Are there non-finite pixel values?\n",
    "\n",
    "    for both counts1 and counts2.\n",
    "    \"\"\"\n",
    "\n",
    "    def __init__(\n",
    "        self,\n",
    "        saturation_limit_adu: float = 65535,  # the saturation limit in ADU\n",
    "        n_allowed_saturated_pixels: int = 0,  # the number of allowed saturated pixels per counts array\n",
    "        **kwargs,  # additional keyword arguments are passed to the `Diagnostics` constructor\n",
    "    ):\n",
    "        self.saturation_limit_adu = saturation_limit_adu\n",
    "        self.n_allowed_saturated_pixels = n_allowed_saturated_pixels\n",
    "        super().__init__(**kwargs)\n",
    "\n",
    "    def tests(self, **kwargs):\n",
    "        files = get_lr_raw_files(**kwargs)\n",
    "        data = read_raw_data(files)\n",
    "\n",
    "        sat = data >= self.saturation_limit_adu\n",
    "        neg = data < 0\n",
    "        nan = ~np.isfinite(data)\n",
    "\n",
    "        count_sat = sat.sum(dim=[\"dim_0\", \"dim_1\"])\n",
    "        any_neg = neg.any(dim=[\"dim_0\", \"dim_1\"])\n",
    "        any_nan = nan.any(dim=[\"dim_0\", \"dim_1\"])\n",
    "\n",
    "        tests = [\n",
    "            {\n",
    "                \"name\": \"too_many_sat_in_counts1\",\n",
    "                \"description\": \"Are there too many pixels saturated above the ADU threshold in counts1?\",\n",
    "                \"test\": count_sat[\"counts1\"] > self.n_allowed_saturated_pixels,\n",
    "            },\n",
    "            {\n",
    "                \"name\": \"neg_pixels_in_counts1\",\n",
    "                \"description\": \"Are there negative pixel values in counts1?\",\n",
    "                \"test\": any_neg[\"counts1\"],\n",
    "            },\n",
    "            {\n",
    "                \"name\": \"nan_pixels_in_counts1\",\n",
    "                \"description\": \"Are there non-finite pixel values in counts1?\",\n",
    "                \"test\": any_nan[\"counts1\"],\n",
    "            },\n",
    "            {\n",
    "                \"name\": \"too_many_sat_in_counts2\",\n",
    "                \"description\": \"Are there too many pixels saturated above the ADU threshold in counts2\",\n",
    "                \"test\": count_sat[\"counts2\"] > self.n_allowed_saturated_pixels,\n",
    "            },\n",
    "            {\n",
    "                \"name\": \"neg_pixels_in_counts2\",\n",
    "                \"description\": \"Are there negative pixel values in counts2?\",\n",
    "                \"test\": any_neg[\"counts2\"],\n",
    "            },\n",
    "            {\n",
    "                \"name\": \"nan_pixels_in_counts2\",\n",
    "                \"description\": \"Are there non-finite pixel values in counts2?\",\n",
    "                \"test\": any_nan[\"counts2\"],\n",
    "            },\n",
    "        ]\n",
    "        return tests"
   ]
  },
  {
   "cell_type": "markdown",
   "id": "b7e17d58-c438-47b4-bfa5-2baf9ca79a53",
   "metadata": {},
   "source": [
    "## Demonstration tests"
   ]
  },
  {
   "cell_type": "markdown",
   "id": "7b930acc-a370-4e59-ad35-a069483da7c1",
   "metadata": {},
   "source": [
    "Here we use multiple `dask` workers to speed up this test. We are checking 10 billion pixel values. On a single core, this takes ~110 seconds. With 8 workers, it takes ~22 seconds."
   ]
  },
  {
   "cell_type": "code",
   "execution_count": null,
   "id": "f63a1c6c-5716-40ee-90c0-8e24eb4a1816",
   "metadata": {},
   "outputs": [
    {
     "name": "stdout",
     "output_type": "stream",
     "text": [
      "Locating and converting where necessary: 100%|██████████| 252/252 [00:00<00:00, 6669.81it/s]\n",
      "Reading netCDF files... took 4.56 s. Size is 37566.843 Mb\n",
      "Tests took 37.80 s to perform.\n",
      "too_many_sat_in_counts1:\n",
      "    Are there too many pixels saturated above the ADU threshold in counts1?\n",
      "neg_pixels_in_counts1:\n",
      "    Are there negative pixel values in counts1?\n",
      "nan_pixels_in_counts1:\n",
      "    Are there non-finite pixel values in counts1?\n",
      "too_many_sat_in_counts2:\n",
      "    Are there too many pixels saturated above the ADU threshold in counts2\n",
      "neg_pixels_in_counts2:\n",
      "    Are there negative pixel values in counts2?\n",
      "nan_pixels_in_counts2:\n",
      "    Are there non-finite pixel values in counts2?\n"
     ]
    }
   ],
   "source": [
    "tests = RawSpectrumValueCheck(n_processes=8)\n",
    "tests.run(date=\"201*\")"
   ]
  },
  {
   "cell_type": "code",
   "execution_count": null,
   "id": "add1a367-b20a-47bb-8de2-e8c0b197be64",
   "metadata": {},
   "outputs": [
    {
     "data": {
      "text/html": [
       "<div>\n",
       "<style scoped>\n",
       "    .dataframe tbody tr th:only-of-type {\n",
       "        vertical-align: middle;\n",
       "    }\n",
       "\n",
       "    .dataframe tbody tr th {\n",
       "        vertical-align: top;\n",
       "    }\n",
       "\n",
       "    .dataframe thead tr th {\n",
       "        text-align: left;\n",
       "    }\n",
       "\n",
       "    .dataframe thead tr:last-of-type th {\n",
       "        text-align: right;\n",
       "    }\n",
       "</style>\n",
       "<table border=\"1\" class=\"dataframe\">\n",
       "  <thead>\n",
       "    <tr>\n",
       "      <th></th>\n",
       "      <th colspan=\"2\" halign=\"left\">failed</th>\n",
       "      <th>total fails</th>\n",
       "    </tr>\n",
       "    <tr>\n",
       "      <th>test</th>\n",
       "      <th>too_many_sat_in_counts1</th>\n",
       "      <th>too_many_sat_in_counts2</th>\n",
       "      <th></th>\n",
       "    </tr>\n",
       "    <tr>\n",
       "      <th>filename</th>\n",
       "      <th></th>\n",
       "      <th></th>\n",
       "      <th></th>\n",
       "    </tr>\n",
       "  </thead>\n",
       "  <tbody>\n",
       "    <tr>\n",
       "      <th>r1002213</th>\n",
       "      <td>True</td>\n",
       "      <td>False</td>\n",
       "      <td>1</td>\n",
       "    </tr>\n",
       "    <tr>\n",
       "      <th>r1002215</th>\n",
       "      <td>True</td>\n",
       "      <td>False</td>\n",
       "      <td>1</td>\n",
       "    </tr>\n",
       "    <tr>\n",
       "      <th>r1002217</th>\n",
       "      <td>True</td>\n",
       "      <td>False</td>\n",
       "      <td>1</td>\n",
       "    </tr>\n",
       "    <tr>\n",
       "      <th>r1002219</th>\n",
       "      <td>False</td>\n",
       "      <td>True</td>\n",
       "      <td>1</td>\n",
       "    </tr>\n",
       "    <tr>\n",
       "      <th>r1002243</th>\n",
       "      <td>False</td>\n",
       "      <td>True</td>\n",
       "      <td>1</td>\n",
       "    </tr>\n",
       "    <tr>\n",
       "      <th>r1002307</th>\n",
       "      <td>False</td>\n",
       "      <td>True</td>\n",
       "      <td>1</td>\n",
       "    </tr>\n",
       "    <tr>\n",
       "      <th>r1003335</th>\n",
       "      <td>False</td>\n",
       "      <td>True</td>\n",
       "      <td>1</td>\n",
       "    </tr>\n",
       "  </tbody>\n",
       "</table>\n",
       "</div>"
      ],
      "text/plain": [
       "                          failed                         total fails\n",
       "test     too_many_sat_in_counts1 too_many_sat_in_counts2            \n",
       "filename                                                            \n",
       "r1002213                    True                   False           1\n",
       "r1002215                    True                   False           1\n",
       "r1002217                    True                   False           1\n",
       "r1002219                   False                    True           1\n",
       "r1002243                   False                    True           1\n",
       "r1002307                   False                    True           1\n",
       "r1003335                   False                    True           1"
      ]
     },
     "execution_count": null,
     "metadata": {},
     "output_type": "execute_result"
    }
   ],
   "source": [
    "tests.summary()"
   ]
  },
  {
   "cell_type": "code",
   "execution_count": null,
   "id": "fca8bb45-e1aa-4315-9aa1-14e36190cfa6",
   "metadata": {},
   "outputs": [],
   "source": [
    "# |hide\n",
    "import nbdev\n",
    "\n",
    "nbdev.nbdev_export()"
   ]
  }
 ],
 "metadata": {
  "kernelspec": {
   "display_name": "python3",
   "language": "python",
   "name": "python3"
  }
 },
 "nbformat": 4,
 "nbformat_minor": 5
}
